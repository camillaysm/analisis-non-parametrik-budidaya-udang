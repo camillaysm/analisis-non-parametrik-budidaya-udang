{
  "nbformat": 4,
  "nbformat_minor": 0,
  "metadata": {
    "colab": {
      "provenance": [],
      "toc_visible": true,
      "gpuType": "T4",
      "authorship_tag": "ABX9TyM8rqsyWJtL/xAGj83dQ+x5",
      "include_colab_link": true
    },
    "kernelspec": {
      "name": "python3",
      "display_name": "Python 3"
    },
    "language_info": {
      "name": "python"
    },
    "accelerator": "GPU"
  },
  "cells": [
    {
      "cell_type": "markdown",
      "metadata": {
        "id": "view-in-github",
        "colab_type": "text"
      },
      "source": [
        "<a href=\"https://colab.research.google.com/github/camillaysm/analisis-non-parametrik-budidaya-udang/blob/main/Analisis_Nonparametrik_Budidaya_Udang.ipynb\" target=\"_parent\"><img src=\"https://colab.research.google.com/assets/colab-badge.svg\" alt=\"Open In Colab\"/></a>"
      ]
    },
    {
      "cell_type": "code",
      "execution_count": 1,
      "metadata": {
        "colab": {
          "base_uri": "https://localhost:8080/"
        },
        "id": "JQaSGfqOn2tZ",
        "outputId": "06f80eac-406d-4fc5-d07c-96d5ba85a790"
      },
      "outputs": [
        {
          "output_type": "stream",
          "name": "stdout",
          "text": [
            "Drive already mounted at /content/drive; to attempt to forcibly remount, call drive.mount(\"/content/drive\", force_remount=True).\n"
          ]
        }
      ],
      "source": [
        "# Mounting g-drive\n",
        "from google.colab import drive\n",
        "drive.mount('/content/drive')"
      ]
    },
    {
      "cell_type": "code",
      "source": [
        "import pandas as pd\n",
        "import numpy as np\n",
        "\n",
        "cycles = pd.read_csv ('/content/drive/MyDrive/Dataset /Budidaya Ikan/cycles.csv')\n",
        "farms =  pd.read_csv('/content/drive/MyDrive/Dataset /Budidaya Ikan/farms.csv')\n",
        "fasting = pd.read_csv('/content/drive/MyDrive/Dataset /Budidaya Ikan/fasting.csv')\n",
        "feeds = pd.read_csv('/content/drive/MyDrive/Dataset /Budidaya Ikan/feeds.csv')\n",
        "harvests = pd.read_csv('/content/drive/MyDrive/Dataset /Budidaya Ikan/harvests.csv')\n",
        "measurements = pd.read_csv('/content/drive/MyDrive/Dataset /Budidaya Ikan/measurements.csv')\n",
        "ponds = pd.read_csv ('/content/drive/MyDrive/Dataset /Budidaya Ikan/ponds.csv')\n",
        "samplings = pd.read_csv('/content/drive/MyDrive/Dataset /Budidaya Ikan/samplings.csv')"
      ],
      "metadata": {
        "id": "NfoK47VQoCEu"
      },
      "execution_count": 2,
      "outputs": []
    },
    {
      "cell_type": "markdown",
      "source": [
        "#DATA CLEANING AND PREPARATION"
      ],
      "metadata": {
        "id": "2suQ7-GyQhQO"
      }
    },
    {
      "cell_type": "markdown",
      "source": [
        "##Data Cycles"
      ],
      "metadata": {
        "id": "-z8nLJkgRTB_"
      }
    },
    {
      "cell_type": "code",
      "source": [
        "# CYCLES\n",
        "# Change datatype 'started_at' and 'finished_at' into datetime\n",
        "cycles['started_at'] = pd.to_datetime(cycles['started_at'])\n",
        "cycles['finished_at'] = pd.to_datetime(cycles['finished_at'])\n",
        "# Create column 'duration_days'\n",
        "cycles['duration_days'] = (cycles['finished_at'] - cycles['started_at']).dt.days\n",
        "# Drop column 'started_at', 'finished_at'\n",
        "cycles = cycles.drop(['started_at', 'finished_at'], axis=1)\n",
        "# Drop duplicates data\n",
        "cycles = cycles.drop_duplicates()\n",
        "cycles.info()"
      ],
      "metadata": {
        "colab": {
          "base_uri": "https://localhost:8080/"
        },
        "id": "0FNLOAdVpF2c",
        "outputId": "baee6911-dcb1-49aa-f8ba-537be1e18a87"
      },
      "execution_count": 3,
      "outputs": [
        {
          "output_type": "stream",
          "name": "stdout",
          "text": [
            "<class 'pandas.core.frame.DataFrame'>\n",
            "Index: 500 entries, 0 to 505\n",
            "Data columns (total 5 columns):\n",
            " #   Column         Non-Null Count  Dtype  \n",
            "---  ------         --------------  -----  \n",
            " 0   id             500 non-null    int64  \n",
            " 1   pond_id        500 non-null    int64  \n",
            " 2   total_seed     500 non-null    int64  \n",
            " 3   area           500 non-null    float64\n",
            " 4   duration_days  500 non-null    int64  \n",
            "dtypes: float64(1), int64(4)\n",
            "memory usage: 23.4 KB\n"
          ]
        }
      ]
    },
    {
      "cell_type": "markdown",
      "source": [
        "##Data Farms"
      ],
      "metadata": {
        "id": "0u51gzSkRW9L"
      }
    },
    {
      "cell_type": "code",
      "source": [
        "# FARMS\n",
        "# Drop duplicates\n",
        "farms = farms.drop_duplicates()\n",
        "# Drop NaN/Null\n",
        "farms = farms.dropna()\n",
        "# Drop column 'timezone'\n",
        "farms = farms.drop('timezone', axis=1)\n",
        "farms.info()"
      ],
      "metadata": {
        "colab": {
          "base_uri": "https://localhost:8080/"
        },
        "id": "A5_miLXIpK0t",
        "outputId": "580a772b-44d0-4652-af5d-82327e19526c"
      },
      "execution_count": 4,
      "outputs": [
        {
          "output_type": "stream",
          "name": "stdout",
          "text": [
            "<class 'pandas.core.frame.DataFrame'>\n",
            "Index: 137 entries, 0 to 159\n",
            "Data columns (total 3 columns):\n",
            " #   Column    Non-Null Count  Dtype \n",
            "---  ------    --------------  ----- \n",
            " 0   id        137 non-null    int64 \n",
            " 1   province  137 non-null    object\n",
            " 2   regency   137 non-null    object\n",
            "dtypes: int64(1), object(2)\n",
            "memory usage: 4.3+ KB\n"
          ]
        }
      ]
    },
    {
      "cell_type": "markdown",
      "source": [
        "##Data Fasting"
      ],
      "metadata": {
        "id": "EcOkpad8RZaH"
      }
    },
    {
      "cell_type": "code",
      "source": [
        "# FASTING\n",
        "# Drop duplicates\n",
        "fasting = fasting.drop_duplicates()\n",
        "# Drop NaN/Null\n",
        "fasting = fasting.dropna()\n",
        "# Drop column'logged_date'\n",
        "fasting = fasting.drop('logged_date', axis=1)\n",
        "fasting.info()"
      ],
      "metadata": {
        "id": "KF1GVEzapOV0",
        "colab": {
          "base_uri": "https://localhost:8080/"
        },
        "outputId": "0e63e90f-10cb-4ba5-e69d-d8a6c75ce6fc"
      },
      "execution_count": 5,
      "outputs": [
        {
          "output_type": "stream",
          "name": "stdout",
          "text": [
            "<class 'pandas.core.frame.DataFrame'>\n",
            "Index: 6105 entries, 0 to 6188\n",
            "Data columns (total 2 columns):\n",
            " #   Column    Non-Null Count  Dtype  \n",
            "---  ------    --------------  -----  \n",
            " 0   cycle_id  6105 non-null   int64  \n",
            " 1   fasting   6105 non-null   float64\n",
            "dtypes: float64(1), int64(1)\n",
            "memory usage: 143.1 KB\n"
          ]
        }
      ]
    },
    {
      "cell_type": "markdown",
      "source": [
        "##Data Feeds"
      ],
      "metadata": {
        "id": "2gpxoXtKRcfB"
      }
    },
    {
      "cell_type": "code",
      "source": [
        "# FEEDS\n",
        "# Drop duplicates\n",
        "feeds = feeds.drop_duplicates()\n",
        "# Drop NaN/Null\n",
        "feeds = feeds.dropna()\n",
        "# Drop columns'logged_date'\n",
        "feeds = feeds.drop('logged_at', axis=1)\n",
        "feeds.info()"
      ],
      "metadata": {
        "colab": {
          "base_uri": "https://localhost:8080/"
        },
        "id": "6MKQR48kpRkD",
        "outputId": "5f7de3e3-d2f8-49b0-8e8d-8f6ebfa5280c"
      },
      "execution_count": 6,
      "outputs": [
        {
          "output_type": "stream",
          "name": "stdout",
          "text": [
            "<class 'pandas.core.frame.DataFrame'>\n",
            "Index: 138781 entries, 0 to 143883\n",
            "Data columns (total 2 columns):\n",
            " #   Column    Non-Null Count   Dtype  \n",
            "---  ------    --------------   -----  \n",
            " 0   cycle_id  138781 non-null  int64  \n",
            " 1   quantity  138781 non-null  float64\n",
            "dtypes: float64(1), int64(1)\n",
            "memory usage: 3.2 MB\n"
          ]
        }
      ]
    },
    {
      "cell_type": "markdown",
      "source": [
        "##Data Harvests"
      ],
      "metadata": {
        "id": "qT-aAKWMRejr"
      }
    },
    {
      "cell_type": "code",
      "source": [
        "# HARVESTS\n",
        "# Drop duplicates\n",
        "harvests = harvests.dropna()\n",
        "# Drop column 'size', 'id', and 'harvested_at'\n",
        "harvests = harvests.drop(['size', 'id', 'harvested_at'], axis=1)\n",
        "harvests.info()"
      ],
      "metadata": {
        "colab": {
          "base_uri": "https://localhost:8080/"
        },
        "id": "RvQyJIedpXpx",
        "outputId": "10e797c1-c689-4878-94e6-c0a7f45a69b0"
      },
      "execution_count": 7,
      "outputs": [
        {
          "output_type": "stream",
          "name": "stdout",
          "text": [
            "<class 'pandas.core.frame.DataFrame'>\n",
            "Index: 1821 entries, 0 to 1869\n",
            "Data columns (total 3 columns):\n",
            " #   Column    Non-Null Count  Dtype  \n",
            "---  ------    --------------  -----  \n",
            " 0   cycle_id  1821 non-null   int64  \n",
            " 1   weight    1821 non-null   float64\n",
            " 2   status    1821 non-null   object \n",
            "dtypes: float64(1), int64(1), object(1)\n",
            "memory usage: 56.9+ KB\n"
          ]
        }
      ]
    },
    {
      "cell_type": "markdown",
      "source": [
        "##Data Ponds"
      ],
      "metadata": {
        "id": "t39x4YTkRhb8"
      }
    },
    {
      "cell_type": "code",
      "source": [
        "# DATA PONDS\n",
        "# Drop column 'length' dan 'width'\n",
        "ponds = ponds.drop(['length', 'width'], axis=1)\n",
        "# Drop NaN/Null\n",
        "ponds = ponds.dropna()\n",
        "ponds.info()"
      ],
      "metadata": {
        "colab": {
          "base_uri": "https://localhost:8080/"
        },
        "id": "JRW1JTZzpZOM",
        "outputId": "60d31ea1-c537-4e2d-d2fa-26d861f35ec9"
      },
      "execution_count": 8,
      "outputs": [
        {
          "output_type": "stream",
          "name": "stdout",
          "text": [
            "<class 'pandas.core.frame.DataFrame'>\n",
            "Index: 427 entries, 0 to 430\n",
            "Data columns (total 3 columns):\n",
            " #   Column   Non-Null Count  Dtype  \n",
            "---  ------   --------------  -----  \n",
            " 0   id       427 non-null    int64  \n",
            " 1   farm_id  427 non-null    int64  \n",
            " 2   deep     427 non-null    float64\n",
            "dtypes: float64(1), int64(2)\n",
            "memory usage: 13.3 KB\n"
          ]
        }
      ]
    },
    {
      "cell_type": "markdown",
      "source": [
        "##Data Sampling"
      ],
      "metadata": {
        "id": "Yl-d-bKsRje1"
      }
    },
    {
      "cell_type": "code",
      "source": [
        "# SAMPLINGS\n",
        "# Drop duplikat\n",
        "samplings = samplings.drop_duplicates()\n",
        "# Drop kolom\n",
        "samplings = samplings.drop(['sampled_at'], axis=1)\n",
        "samplings.info()"
      ],
      "metadata": {
        "colab": {
          "base_uri": "https://localhost:8080/"
        },
        "id": "zsy_xJeGpeSp",
        "outputId": "45d60441-fb84-43b3-8ad7-5bbdc0f69bae"
      },
      "execution_count": 9,
      "outputs": [
        {
          "output_type": "stream",
          "name": "stdout",
          "text": [
            "<class 'pandas.core.frame.DataFrame'>\n",
            "Index: 3532 entries, 0 to 3661\n",
            "Data columns (total 2 columns):\n",
            " #   Column          Non-Null Count  Dtype  \n",
            "---  ------          --------------  -----  \n",
            " 0   cycle_id        3532 non-null   int64  \n",
            " 1   average_weight  3532 non-null   float64\n",
            "dtypes: float64(1), int64(1)\n",
            "memory usage: 82.8 KB\n"
          ]
        }
      ]
    },
    {
      "cell_type": "code",
      "source": [
        "# Merge cycles with feeds\n",
        "data = cycles.merge(feeds, left_on='id', right_on='cycle_id')\n",
        "# Merge data with harvest\n",
        "data = data.merge(harvests, on='cycle_id')\n",
        "# Merge data with sampling\n",
        "data = data.merge(samplings, on='cycle_id')"
      ],
      "metadata": {
        "id": "o12tqZZpphWu"
      },
      "execution_count": 10,
      "outputs": []
    },
    {
      "cell_type": "code",
      "source": [
        "# Merge data with fasting\n",
        "data = data.merge(fasting, on='cycle_id')"
      ],
      "metadata": {
        "id": "K_6bS8ZohUpu"
      },
      "execution_count": 12,
      "outputs": []
    },
    {
      "cell_type": "code",
      "source": [
        "# Drop duplicates\n",
        "data = data.drop_duplicates()"
      ],
      "metadata": {
        "id": "uGHIjqG7gpI_"
      },
      "execution_count": 13,
      "outputs": []
    },
    {
      "cell_type": "markdown",
      "source": [
        "##Menghitung Performa Budidaya (SR, ADG, FCR)"
      ],
      "metadata": {
        "id": "ekayh0_eRnrq"
      }
    },
    {
      "cell_type": "code",
      "source": [
        "# CALCULATE SR\n",
        "data['SR'] = (data['weight'] / data['total_seed']) * 100\n",
        "\n",
        "# CALCULATE ADG\n",
        "# ADG is obtained by comparing and finding the difference in ABW between adjacent samplings and the time distance (days) between samplings\n",
        "data['ADG'] = data['average_weight'].diff() / data['duration_days'].diff()\n",
        "\n",
        "# CALCULATE FCR\n",
        "# FCR is obtained by total feed divided by total weight of shirmp\n",
        "data['total_feed'] = data.groupby('cycle_id')['quantity'].transform('sum')\n",
        "data['total_weight'] = data.groupby('cycle_id')['weight'].transform('sum')\n",
        "# FCR\n",
        "data['FCR'] = data['total_feed'] / data['total_weight']\n",
        "\n",
        "# Drop NaN on SR, FCR dan ADG\n",
        "data = data.dropna(subset=['SR','FCR','ADG'])"
      ],
      "metadata": {
        "id": "lModAY5Hppf8"
      },
      "execution_count": 14,
      "outputs": []
    },
    {
      "cell_type": "code",
      "source": [
        "# Merge farms with ponds\n",
        "farms_ponds = farms.merge(ponds, left_on='id', right_on='farm_id', suffixes=('_farm', '_pond'))\n",
        "# Merge farms_ponds with data\n",
        "data = farms_ponds.merge(data, left_on='id_pond', right_on='pond_id')\n",
        "\n",
        "# Drop useless columns\n",
        "data = data.drop(['id_farm',\n",
        "                  'id_pond',\n",
        "                  'id',\n",
        "                  'total_seed',\n",
        "                  'quantity',\n",
        "                  'weight',\n",
        "                  'average_weight'], axis=1)\n",
        "data.columns"
      ],
      "metadata": {
        "id": "BayWUrqNpunK",
        "colab": {
          "base_uri": "https://localhost:8080/"
        },
        "outputId": "485b525c-cae7-4148-eb04-06dd18e03eae"
      },
      "execution_count": 15,
      "outputs": [
        {
          "output_type": "execute_result",
          "data": {
            "text/plain": [
              "Index(['province', 'regency', 'farm_id', 'deep', 'pond_id', 'area',\n",
              "       'duration_days', 'cycle_id', 'status', 'fasting', 'SR', 'ADG',\n",
              "       'total_feed', 'total_weight', 'FCR'],\n",
              "      dtype='object')"
            ]
          },
          "metadata": {},
          "execution_count": 15
        }
      ]
    },
    {
      "cell_type": "code",
      "source": [
        "data.duplicated().sum()"
      ],
      "metadata": {
        "colab": {
          "base_uri": "https://localhost:8080/"
        },
        "id": "YLMPQe4Jp8uP",
        "outputId": "86600d4f-a9ce-47d7-b4e5-73d5db48a4fe"
      },
      "execution_count": 16,
      "outputs": [
        {
          "output_type": "execute_result",
          "data": {
            "text/plain": [
              "544196"
            ]
          },
          "metadata": {},
          "execution_count": 16
        }
      ]
    },
    {
      "cell_type": "code",
      "source": [
        "data = data.drop_duplicates()"
      ],
      "metadata": {
        "id": "jidaCdCrqFZx"
      },
      "execution_count": 17,
      "outputs": []
    },
    {
      "cell_type": "markdown",
      "source": [
        "##Data Measurements"
      ],
      "metadata": {
        "id": "CIOgC74WSXsv"
      }
    },
    {
      "cell_type": "code",
      "source": [
        "# MEASUREMENTS\n",
        "# Calculate for water quality\n",
        "# Calculate average temperature\n",
        "measurements['avg_temp'] = (measurements['morning_temperature'] + measurements['evening_temperature']) / 2\n",
        "\n",
        "# Calculate average dissolved oxygen (DO)\n",
        "measurements['avg_do'] = (measurements['morning_do'] + measurements['evening_do']) / 2\n",
        "\n",
        "# Calculate average salinity\n",
        "measurements['avg_salinity'] = (measurements['morning_salinity'] + measurements['evening_salinity']) / 2\n",
        "\n",
        "# Calculate average pH\n",
        "measurements['avg_pH'] = (measurements['morning_pH'] + measurements['evening_pH']) / 2\n",
        "\n",
        "# Calculate average of nutrient content\n",
        "measurements['avg_nutrient'] = measurements[['ammonia', 'nitrate', 'nitrite']].mean(axis=1)\n",
        "\n",
        "# Calculate average alkalinity and hardness parameters\n",
        "measurements['avg_alkalinity_hardness'] = measurements[['alkalinity', 'hardness', 'calcium', 'magnesium', 'carbonate', 'bicarbonate']].mean(axis=1)\n",
        "\n",
        "# Delete useless columns\n",
        "measurements = measurements.drop(['pond_id', 'measured_date', 'morning_temperature',\n",
        "       'evening_temperature', 'morning_do', 'evening_do', 'morning_salinity',\n",
        "       'evening_salinity', 'morning_pH', 'evening_pH',\n",
        "       'turbidity', 'ammonia', 'nitrate', 'nitrite', 'alkalinity', 'hardness',\n",
        "       'calcium', 'magnesium', 'carbonate', 'bicarbonate'], axis=1)\n",
        "measurements.columns"
      ],
      "metadata": {
        "colab": {
          "base_uri": "https://localhost:8080/"
        },
        "id": "oQ8qVELmqHv5",
        "outputId": "3ecc3215-58a5-4448-b405-4b5ca146d9b2"
      },
      "execution_count": 18,
      "outputs": [
        {
          "output_type": "execute_result",
          "data": {
            "text/plain": [
              "Index(['cycle_id', 'transparency', 'tom', 'total_plankton_', 'avg_temp',\n",
              "       'avg_do', 'avg_salinity', 'avg_pH', 'avg_nutrient',\n",
              "       'avg_alkalinity_hardness'],\n",
              "      dtype='object')"
            ]
          },
          "metadata": {},
          "execution_count": 18
        }
      ]
    },
    {
      "cell_type": "code",
      "source": [
        "measurements.head()"
      ],
      "metadata": {
        "colab": {
          "base_uri": "https://localhost:8080/",
          "height": 226
        },
        "id": "N1QTd3wcqMAv",
        "outputId": "535dab10-0014-4bb2-e168-fdebe4373bb2"
      },
      "execution_count": 19,
      "outputs": [
        {
          "output_type": "execute_result",
          "data": {
            "text/plain": [
              "   cycle_id  transparency    tom  total_plankton_  avg_temp  avg_do  \\\n",
              "0     23531          50.0    NaN              NaN       NaN     NaN   \n",
              "1     15493           NaN    NaN              NaN      28.9     NaN   \n",
              "2     15498          95.0    NaN              NaN      28.0     NaN   \n",
              "3     16294          40.0  175.0              NaN      26.2   14.95   \n",
              "4     20429           NaN    NaN              NaN      29.9     NaN   \n",
              "\n",
              "   avg_salinity  avg_pH  avg_nutrient  avg_alkalinity_hardness  \n",
              "0           NaN     NaN           NaN                      NaN  \n",
              "1          15.0     NaN           NaN                      NaN  \n",
              "2          31.0   8.100           NaN                      NaN  \n",
              "3          13.0     NaN         1.313                   1885.2  \n",
              "4           NaN   8.575           NaN                      NaN  "
            ],
            "text/html": [
              "\n",
              "  <div id=\"df-b2c1eb25-865a-4590-9cce-7c5b83f89e5a\" class=\"colab-df-container\">\n",
              "    <div>\n",
              "<style scoped>\n",
              "    .dataframe tbody tr th:only-of-type {\n",
              "        vertical-align: middle;\n",
              "    }\n",
              "\n",
              "    .dataframe tbody tr th {\n",
              "        vertical-align: top;\n",
              "    }\n",
              "\n",
              "    .dataframe thead th {\n",
              "        text-align: right;\n",
              "    }\n",
              "</style>\n",
              "<table border=\"1\" class=\"dataframe\">\n",
              "  <thead>\n",
              "    <tr style=\"text-align: right;\">\n",
              "      <th></th>\n",
              "      <th>cycle_id</th>\n",
              "      <th>transparency</th>\n",
              "      <th>tom</th>\n",
              "      <th>total_plankton_</th>\n",
              "      <th>avg_temp</th>\n",
              "      <th>avg_do</th>\n",
              "      <th>avg_salinity</th>\n",
              "      <th>avg_pH</th>\n",
              "      <th>avg_nutrient</th>\n",
              "      <th>avg_alkalinity_hardness</th>\n",
              "    </tr>\n",
              "  </thead>\n",
              "  <tbody>\n",
              "    <tr>\n",
              "      <th>0</th>\n",
              "      <td>23531</td>\n",
              "      <td>50.0</td>\n",
              "      <td>NaN</td>\n",
              "      <td>NaN</td>\n",
              "      <td>NaN</td>\n",
              "      <td>NaN</td>\n",
              "      <td>NaN</td>\n",
              "      <td>NaN</td>\n",
              "      <td>NaN</td>\n",
              "      <td>NaN</td>\n",
              "    </tr>\n",
              "    <tr>\n",
              "      <th>1</th>\n",
              "      <td>15493</td>\n",
              "      <td>NaN</td>\n",
              "      <td>NaN</td>\n",
              "      <td>NaN</td>\n",
              "      <td>28.9</td>\n",
              "      <td>NaN</td>\n",
              "      <td>15.0</td>\n",
              "      <td>NaN</td>\n",
              "      <td>NaN</td>\n",
              "      <td>NaN</td>\n",
              "    </tr>\n",
              "    <tr>\n",
              "      <th>2</th>\n",
              "      <td>15498</td>\n",
              "      <td>95.0</td>\n",
              "      <td>NaN</td>\n",
              "      <td>NaN</td>\n",
              "      <td>28.0</td>\n",
              "      <td>NaN</td>\n",
              "      <td>31.0</td>\n",
              "      <td>8.100</td>\n",
              "      <td>NaN</td>\n",
              "      <td>NaN</td>\n",
              "    </tr>\n",
              "    <tr>\n",
              "      <th>3</th>\n",
              "      <td>16294</td>\n",
              "      <td>40.0</td>\n",
              "      <td>175.0</td>\n",
              "      <td>NaN</td>\n",
              "      <td>26.2</td>\n",
              "      <td>14.95</td>\n",
              "      <td>13.0</td>\n",
              "      <td>NaN</td>\n",
              "      <td>1.313</td>\n",
              "      <td>1885.2</td>\n",
              "    </tr>\n",
              "    <tr>\n",
              "      <th>4</th>\n",
              "      <td>20429</td>\n",
              "      <td>NaN</td>\n",
              "      <td>NaN</td>\n",
              "      <td>NaN</td>\n",
              "      <td>29.9</td>\n",
              "      <td>NaN</td>\n",
              "      <td>NaN</td>\n",
              "      <td>8.575</td>\n",
              "      <td>NaN</td>\n",
              "      <td>NaN</td>\n",
              "    </tr>\n",
              "  </tbody>\n",
              "</table>\n",
              "</div>\n",
              "    <div class=\"colab-df-buttons\">\n",
              "\n",
              "  <div class=\"colab-df-container\">\n",
              "    <button class=\"colab-df-convert\" onclick=\"convertToInteractive('df-b2c1eb25-865a-4590-9cce-7c5b83f89e5a')\"\n",
              "            title=\"Convert this dataframe to an interactive table.\"\n",
              "            style=\"display:none;\">\n",
              "\n",
              "  <svg xmlns=\"http://www.w3.org/2000/svg\" height=\"24px\" viewBox=\"0 -960 960 960\">\n",
              "    <path d=\"M120-120v-720h720v720H120Zm60-500h600v-160H180v160Zm220 220h160v-160H400v160Zm0 220h160v-160H400v160ZM180-400h160v-160H180v160Zm440 0h160v-160H620v160ZM180-180h160v-160H180v160Zm440 0h160v-160H620v160Z\"/>\n",
              "  </svg>\n",
              "    </button>\n",
              "\n",
              "  <style>\n",
              "    .colab-df-container {\n",
              "      display:flex;\n",
              "      gap: 12px;\n",
              "    }\n",
              "\n",
              "    .colab-df-convert {\n",
              "      background-color: #E8F0FE;\n",
              "      border: none;\n",
              "      border-radius: 50%;\n",
              "      cursor: pointer;\n",
              "      display: none;\n",
              "      fill: #1967D2;\n",
              "      height: 32px;\n",
              "      padding: 0 0 0 0;\n",
              "      width: 32px;\n",
              "    }\n",
              "\n",
              "    .colab-df-convert:hover {\n",
              "      background-color: #E2EBFA;\n",
              "      box-shadow: 0px 1px 2px rgba(60, 64, 67, 0.3), 0px 1px 3px 1px rgba(60, 64, 67, 0.15);\n",
              "      fill: #174EA6;\n",
              "    }\n",
              "\n",
              "    .colab-df-buttons div {\n",
              "      margin-bottom: 4px;\n",
              "    }\n",
              "\n",
              "    [theme=dark] .colab-df-convert {\n",
              "      background-color: #3B4455;\n",
              "      fill: #D2E3FC;\n",
              "    }\n",
              "\n",
              "    [theme=dark] .colab-df-convert:hover {\n",
              "      background-color: #434B5C;\n",
              "      box-shadow: 0px 1px 3px 1px rgba(0, 0, 0, 0.15);\n",
              "      filter: drop-shadow(0px 1px 2px rgba(0, 0, 0, 0.3));\n",
              "      fill: #FFFFFF;\n",
              "    }\n",
              "  </style>\n",
              "\n",
              "    <script>\n",
              "      const buttonEl =\n",
              "        document.querySelector('#df-b2c1eb25-865a-4590-9cce-7c5b83f89e5a button.colab-df-convert');\n",
              "      buttonEl.style.display =\n",
              "        google.colab.kernel.accessAllowed ? 'block' : 'none';\n",
              "\n",
              "      async function convertToInteractive(key) {\n",
              "        const element = document.querySelector('#df-b2c1eb25-865a-4590-9cce-7c5b83f89e5a');\n",
              "        const dataTable =\n",
              "          await google.colab.kernel.invokeFunction('convertToInteractive',\n",
              "                                                    [key], {});\n",
              "        if (!dataTable) return;\n",
              "\n",
              "        const docLinkHtml = 'Like what you see? Visit the ' +\n",
              "          '<a target=\"_blank\" href=https://colab.research.google.com/notebooks/data_table.ipynb>data table notebook</a>'\n",
              "          + ' to learn more about interactive tables.';\n",
              "        element.innerHTML = '';\n",
              "        dataTable['output_type'] = 'display_data';\n",
              "        await google.colab.output.renderOutput(dataTable, element);\n",
              "        const docLink = document.createElement('div');\n",
              "        docLink.innerHTML = docLinkHtml;\n",
              "        element.appendChild(docLink);\n",
              "      }\n",
              "    </script>\n",
              "  </div>\n",
              "\n",
              "\n",
              "<div id=\"df-7c3308a1-91cd-438f-bd42-7261ba023977\">\n",
              "  <button class=\"colab-df-quickchart\" onclick=\"quickchart('df-7c3308a1-91cd-438f-bd42-7261ba023977')\"\n",
              "            title=\"Suggest charts\"\n",
              "            style=\"display:none;\">\n",
              "\n",
              "<svg xmlns=\"http://www.w3.org/2000/svg\" height=\"24px\"viewBox=\"0 0 24 24\"\n",
              "     width=\"24px\">\n",
              "    <g>\n",
              "        <path d=\"M19 3H5c-1.1 0-2 .9-2 2v14c0 1.1.9 2 2 2h14c1.1 0 2-.9 2-2V5c0-1.1-.9-2-2-2zM9 17H7v-7h2v7zm4 0h-2V7h2v10zm4 0h-2v-4h2v4z\"/>\n",
              "    </g>\n",
              "</svg>\n",
              "  </button>\n",
              "\n",
              "<style>\n",
              "  .colab-df-quickchart {\n",
              "      --bg-color: #E8F0FE;\n",
              "      --fill-color: #1967D2;\n",
              "      --hover-bg-color: #E2EBFA;\n",
              "      --hover-fill-color: #174EA6;\n",
              "      --disabled-fill-color: #AAA;\n",
              "      --disabled-bg-color: #DDD;\n",
              "  }\n",
              "\n",
              "  [theme=dark] .colab-df-quickchart {\n",
              "      --bg-color: #3B4455;\n",
              "      --fill-color: #D2E3FC;\n",
              "      --hover-bg-color: #434B5C;\n",
              "      --hover-fill-color: #FFFFFF;\n",
              "      --disabled-bg-color: #3B4455;\n",
              "      --disabled-fill-color: #666;\n",
              "  }\n",
              "\n",
              "  .colab-df-quickchart {\n",
              "    background-color: var(--bg-color);\n",
              "    border: none;\n",
              "    border-radius: 50%;\n",
              "    cursor: pointer;\n",
              "    display: none;\n",
              "    fill: var(--fill-color);\n",
              "    height: 32px;\n",
              "    padding: 0;\n",
              "    width: 32px;\n",
              "  }\n",
              "\n",
              "  .colab-df-quickchart:hover {\n",
              "    background-color: var(--hover-bg-color);\n",
              "    box-shadow: 0 1px 2px rgba(60, 64, 67, 0.3), 0 1px 3px 1px rgba(60, 64, 67, 0.15);\n",
              "    fill: var(--button-hover-fill-color);\n",
              "  }\n",
              "\n",
              "  .colab-df-quickchart-complete:disabled,\n",
              "  .colab-df-quickchart-complete:disabled:hover {\n",
              "    background-color: var(--disabled-bg-color);\n",
              "    fill: var(--disabled-fill-color);\n",
              "    box-shadow: none;\n",
              "  }\n",
              "\n",
              "  .colab-df-spinner {\n",
              "    border: 2px solid var(--fill-color);\n",
              "    border-color: transparent;\n",
              "    border-bottom-color: var(--fill-color);\n",
              "    animation:\n",
              "      spin 1s steps(1) infinite;\n",
              "  }\n",
              "\n",
              "  @keyframes spin {\n",
              "    0% {\n",
              "      border-color: transparent;\n",
              "      border-bottom-color: var(--fill-color);\n",
              "      border-left-color: var(--fill-color);\n",
              "    }\n",
              "    20% {\n",
              "      border-color: transparent;\n",
              "      border-left-color: var(--fill-color);\n",
              "      border-top-color: var(--fill-color);\n",
              "    }\n",
              "    30% {\n",
              "      border-color: transparent;\n",
              "      border-left-color: var(--fill-color);\n",
              "      border-top-color: var(--fill-color);\n",
              "      border-right-color: var(--fill-color);\n",
              "    }\n",
              "    40% {\n",
              "      border-color: transparent;\n",
              "      border-right-color: var(--fill-color);\n",
              "      border-top-color: var(--fill-color);\n",
              "    }\n",
              "    60% {\n",
              "      border-color: transparent;\n",
              "      border-right-color: var(--fill-color);\n",
              "    }\n",
              "    80% {\n",
              "      border-color: transparent;\n",
              "      border-right-color: var(--fill-color);\n",
              "      border-bottom-color: var(--fill-color);\n",
              "    }\n",
              "    90% {\n",
              "      border-color: transparent;\n",
              "      border-bottom-color: var(--fill-color);\n",
              "    }\n",
              "  }\n",
              "</style>\n",
              "\n",
              "  <script>\n",
              "    async function quickchart(key) {\n",
              "      const quickchartButtonEl =\n",
              "        document.querySelector('#' + key + ' button');\n",
              "      quickchartButtonEl.disabled = true;  // To prevent multiple clicks.\n",
              "      quickchartButtonEl.classList.add('colab-df-spinner');\n",
              "      try {\n",
              "        const charts = await google.colab.kernel.invokeFunction(\n",
              "            'suggestCharts', [key], {});\n",
              "      } catch (error) {\n",
              "        console.error('Error during call to suggestCharts:', error);\n",
              "      }\n",
              "      quickchartButtonEl.classList.remove('colab-df-spinner');\n",
              "      quickchartButtonEl.classList.add('colab-df-quickchart-complete');\n",
              "    }\n",
              "    (() => {\n",
              "      let quickchartButtonEl =\n",
              "        document.querySelector('#df-7c3308a1-91cd-438f-bd42-7261ba023977 button');\n",
              "      quickchartButtonEl.style.display =\n",
              "        google.colab.kernel.accessAllowed ? 'block' : 'none';\n",
              "    })();\n",
              "  </script>\n",
              "</div>\n",
              "\n",
              "    </div>\n",
              "  </div>\n"
            ],
            "application/vnd.google.colaboratory.intrinsic+json": {
              "type": "dataframe",
              "variable_name": "measurements",
              "summary": "{\n  \"name\": \"measurements\",\n  \"rows\": 37909,\n  \"fields\": [\n    {\n      \"column\": \"cycle_id\",\n      \"properties\": {\n        \"dtype\": \"number\",\n        \"std\": 2820,\n        \"min\": 7615,\n        \"max\": 23531,\n        \"num_unique_values\": 500,\n        \"samples\": [\n          15782,\n          15015,\n          19692\n        ],\n        \"semantic_type\": \"\",\n        \"description\": \"\"\n      }\n    },\n    {\n      \"column\": \"transparency\",\n      \"properties\": {\n        \"dtype\": \"number\",\n        \"std\": 19.330409646001527,\n        \"min\": -35.0,\n        \"max\": 501.0,\n        \"num_unique_values\": 307,\n        \"samples\": [\n          74.333333333,\n          62.5,\n          46.666666667\n        ],\n        \"semantic_type\": \"\",\n        \"description\": \"\"\n      }\n    },\n    {\n      \"column\": \"tom\",\n      \"properties\": {\n        \"dtype\": \"number\",\n        \"std\": 33.52213588216506,\n        \"min\": -15.17,\n        \"max\": 458.0,\n        \"num_unique_values\": 540,\n        \"samples\": [\n          21.0,\n          83.0,\n          120.08\n        ],\n        \"semantic_type\": \"\",\n        \"description\": \"\"\n      }\n    },\n    {\n      \"column\": \"total_plankton_\",\n      \"properties\": {\n        \"dtype\": \"number\",\n        \"std\": 829377.8452403654,\n        \"min\": 0.0,\n        \"max\": 19530000.0,\n        \"num_unique_values\": 1024,\n        \"samples\": [\n          5280000.0,\n          67500.0,\n          960000.0\n        ],\n        \"semantic_type\": \"\",\n        \"description\": \"\"\n      }\n    },\n    {\n      \"column\": \"avg_temp\",\n      \"properties\": {\n        \"dtype\": \"number\",\n        \"std\": 82.54013511599192,\n        \"min\": 2.885,\n        \"max\": 13686.3005,\n        \"num_unique_values\": 6280,\n        \"samples\": [\n          30.4615,\n          29.5405,\n          28.8705\n        ],\n        \"semantic_type\": \"\",\n        \"description\": \"\"\n      }\n    },\n    {\n      \"column\": \"avg_do\",\n      \"properties\": {\n        \"dtype\": \"number\",\n        \"std\": 19.810164523985044,\n        \"min\": -21.330833333500003,\n        \"max\": 2824.2755,\n        \"num_unique_values\": 6742,\n        \"samples\": [\n          4.8,\n          5.463,\n          3.916\n        ],\n        \"semantic_type\": \"\",\n        \"description\": \"\"\n      }\n    },\n    {\n      \"column\": \"avg_salinity\",\n      \"properties\": {\n        \"dtype\": \"number\",\n        \"std\": 38.00138334111931,\n        \"min\": -0.5,\n        \"max\": 4566.776,\n        \"num_unique_values\": 6985,\n        \"samples\": [\n          14.258,\n          29.2955,\n          2.5875000000000004\n        ],\n        \"semantic_type\": \"\",\n        \"description\": \"\"\n      }\n    },\n    {\n      \"column\": \"avg_pH\",\n      \"properties\": {\n        \"dtype\": \"number\",\n        \"std\": 4.5050203629561505,\n        \"min\": 4.1000000000000005,\n        \"max\": 435.2565,\n        \"num_unique_values\": 2244,\n        \"samples\": [\n          8.6615,\n          7.868,\n          7.4645\n        ],\n        \"semantic_type\": \"\",\n        \"description\": \"\"\n      }\n    },\n    {\n      \"column\": \"avg_nutrient\",\n      \"properties\": {\n        \"dtype\": \"number\",\n        \"std\": 524.4257437851813,\n        \"min\": 0.0,\n        \"max\": 24015.779,\n        \"num_unique_values\": 1158,\n        \"samples\": [\n          0.5235,\n          0.723,\n          0.026\n        ],\n        \"semantic_type\": \"\",\n        \"description\": \"\"\n      }\n    },\n    {\n      \"column\": \"avg_alkalinity_hardness\",\n      \"properties\": {\n        \"dtype\": \"number\",\n        \"std\": 6106.894771263105,\n        \"min\": 0.0,\n        \"max\": 400685.2,\n        \"num_unique_values\": 2350,\n        \"samples\": [\n          960.1666666666666,\n          1491.2,\n          2735.6\n        ],\n        \"semantic_type\": \"\",\n        \"description\": \"\"\n      }\n    }\n  ]\n}"
            }
          },
          "metadata": {},
          "execution_count": 19
        }
      ]
    },
    {
      "cell_type": "code",
      "source": [
        "# Fill NaN dengan 0\n",
        "measurements = measurements.fillna(0)\n",
        "\n",
        "# Delete row contains '0' in everey columns\n",
        "measurements = measurements[~((measurements['transparency']==0) & (measurements['tom']==0)\n",
        "                            & (measurements['avg_alkalinity_hardness']==0) & (measurements['avg_temp']==0)\n",
        "                            & (measurements['avg_do']==0) & (measurements['avg_salinity']==0)\n",
        "                            & (measurements['avg_pH']==0) & (measurements['avg_nutrient']==0)\n",
        "                            & (measurements['total_plankton_']==0))]\n",
        "\n",
        "# Merge data with measurements\n",
        "data = data.merge(measurements, on='cycle_id')\n",
        "\n",
        "# Drop duplicates\n",
        "data = data.drop_duplicates()"
      ],
      "metadata": {
        "id": "BAx04NvrqQlt"
      },
      "execution_count": 20,
      "outputs": []
    },
    {
      "cell_type": "code",
      "source": [
        "data.head()"
      ],
      "metadata": {
        "colab": {
          "base_uri": "https://localhost:8080/",
          "height": 342
        },
        "id": "jTZwXG8vqb2T",
        "outputId": "eb0fe3b1-b079-466d-f072-fdc68d9592c1"
      },
      "execution_count": 21,
      "outputs": [
        {
          "output_type": "execute_result",
          "data": {
            "text/plain": [
              "      province    regency  farm_id  deep  pond_id   area  duration_days  \\\n",
              "0  JAWA TENGAH  PURWOREJO        3   1.0    33291  750.0             51   \n",
              "1  JAWA TENGAH  PURWOREJO        3   1.0    33291  750.0             51   \n",
              "2  JAWA TENGAH  PURWOREJO        3   1.0    33291  750.0             51   \n",
              "3  JAWA TENGAH  PURWOREJO        3   1.0    33291  750.0             51   \n",
              "4  JAWA TENGAH  PURWOREJO        3   1.0    33291  750.0             51   \n",
              "\n",
              "   cycle_id status  fasting  ...       FCR  transparency  tom  \\\n",
              "0     19808   Full      0.0  ...  0.007376           0.0  0.0   \n",
              "1     19808   Full      0.0  ...  0.007376           0.0  0.0   \n",
              "2     19808   Full      0.0  ...  0.007376           0.0  0.0   \n",
              "3     19808   Full      0.0  ...  0.007376           0.0  0.0   \n",
              "4     19808   Full      0.0  ...  0.007376           0.0  0.0   \n",
              "\n",
              "   total_plankton_  avg_temp  avg_do  avg_salinity  avg_pH  avg_nutrient  \\\n",
              "0              0.0    28.541  5.4575       33.3690    0.00           0.0   \n",
              "1              0.0    28.526  5.5685       32.8695    0.00           0.0   \n",
              "2              0.0    28.785  5.4350       32.2000    8.58           0.0   \n",
              "3              0.0    28.307  5.2155       33.6615    0.00           0.0   \n",
              "4              0.0    27.200  5.3500       32.8550    8.10           0.0   \n",
              "\n",
              "   avg_alkalinity_hardness  \n",
              "0                      0.0  \n",
              "1                      0.0  \n",
              "2                      0.0  \n",
              "3                      0.0  \n",
              "4                      0.0  \n",
              "\n",
              "[5 rows x 24 columns]"
            ],
            "text/html": [
              "\n",
              "  <div id=\"df-efa4267b-c9b4-4c6d-bfdd-5a12bff7f755\" class=\"colab-df-container\">\n",
              "    <div>\n",
              "<style scoped>\n",
              "    .dataframe tbody tr th:only-of-type {\n",
              "        vertical-align: middle;\n",
              "    }\n",
              "\n",
              "    .dataframe tbody tr th {\n",
              "        vertical-align: top;\n",
              "    }\n",
              "\n",
              "    .dataframe thead th {\n",
              "        text-align: right;\n",
              "    }\n",
              "</style>\n",
              "<table border=\"1\" class=\"dataframe\">\n",
              "  <thead>\n",
              "    <tr style=\"text-align: right;\">\n",
              "      <th></th>\n",
              "      <th>province</th>\n",
              "      <th>regency</th>\n",
              "      <th>farm_id</th>\n",
              "      <th>deep</th>\n",
              "      <th>pond_id</th>\n",
              "      <th>area</th>\n",
              "      <th>duration_days</th>\n",
              "      <th>cycle_id</th>\n",
              "      <th>status</th>\n",
              "      <th>fasting</th>\n",
              "      <th>...</th>\n",
              "      <th>FCR</th>\n",
              "      <th>transparency</th>\n",
              "      <th>tom</th>\n",
              "      <th>total_plankton_</th>\n",
              "      <th>avg_temp</th>\n",
              "      <th>avg_do</th>\n",
              "      <th>avg_salinity</th>\n",
              "      <th>avg_pH</th>\n",
              "      <th>avg_nutrient</th>\n",
              "      <th>avg_alkalinity_hardness</th>\n",
              "    </tr>\n",
              "  </thead>\n",
              "  <tbody>\n",
              "    <tr>\n",
              "      <th>0</th>\n",
              "      <td>JAWA TENGAH</td>\n",
              "      <td>PURWOREJO</td>\n",
              "      <td>3</td>\n",
              "      <td>1.0</td>\n",
              "      <td>33291</td>\n",
              "      <td>750.0</td>\n",
              "      <td>51</td>\n",
              "      <td>19808</td>\n",
              "      <td>Full</td>\n",
              "      <td>0.0</td>\n",
              "      <td>...</td>\n",
              "      <td>0.007376</td>\n",
              "      <td>0.0</td>\n",
              "      <td>0.0</td>\n",
              "      <td>0.0</td>\n",
              "      <td>28.541</td>\n",
              "      <td>5.4575</td>\n",
              "      <td>33.3690</td>\n",
              "      <td>0.00</td>\n",
              "      <td>0.0</td>\n",
              "      <td>0.0</td>\n",
              "    </tr>\n",
              "    <tr>\n",
              "      <th>1</th>\n",
              "      <td>JAWA TENGAH</td>\n",
              "      <td>PURWOREJO</td>\n",
              "      <td>3</td>\n",
              "      <td>1.0</td>\n",
              "      <td>33291</td>\n",
              "      <td>750.0</td>\n",
              "      <td>51</td>\n",
              "      <td>19808</td>\n",
              "      <td>Full</td>\n",
              "      <td>0.0</td>\n",
              "      <td>...</td>\n",
              "      <td>0.007376</td>\n",
              "      <td>0.0</td>\n",
              "      <td>0.0</td>\n",
              "      <td>0.0</td>\n",
              "      <td>28.526</td>\n",
              "      <td>5.5685</td>\n",
              "      <td>32.8695</td>\n",
              "      <td>0.00</td>\n",
              "      <td>0.0</td>\n",
              "      <td>0.0</td>\n",
              "    </tr>\n",
              "    <tr>\n",
              "      <th>2</th>\n",
              "      <td>JAWA TENGAH</td>\n",
              "      <td>PURWOREJO</td>\n",
              "      <td>3</td>\n",
              "      <td>1.0</td>\n",
              "      <td>33291</td>\n",
              "      <td>750.0</td>\n",
              "      <td>51</td>\n",
              "      <td>19808</td>\n",
              "      <td>Full</td>\n",
              "      <td>0.0</td>\n",
              "      <td>...</td>\n",
              "      <td>0.007376</td>\n",
              "      <td>0.0</td>\n",
              "      <td>0.0</td>\n",
              "      <td>0.0</td>\n",
              "      <td>28.785</td>\n",
              "      <td>5.4350</td>\n",
              "      <td>32.2000</td>\n",
              "      <td>8.58</td>\n",
              "      <td>0.0</td>\n",
              "      <td>0.0</td>\n",
              "    </tr>\n",
              "    <tr>\n",
              "      <th>3</th>\n",
              "      <td>JAWA TENGAH</td>\n",
              "      <td>PURWOREJO</td>\n",
              "      <td>3</td>\n",
              "      <td>1.0</td>\n",
              "      <td>33291</td>\n",
              "      <td>750.0</td>\n",
              "      <td>51</td>\n",
              "      <td>19808</td>\n",
              "      <td>Full</td>\n",
              "      <td>0.0</td>\n",
              "      <td>...</td>\n",
              "      <td>0.007376</td>\n",
              "      <td>0.0</td>\n",
              "      <td>0.0</td>\n",
              "      <td>0.0</td>\n",
              "      <td>28.307</td>\n",
              "      <td>5.2155</td>\n",
              "      <td>33.6615</td>\n",
              "      <td>0.00</td>\n",
              "      <td>0.0</td>\n",
              "      <td>0.0</td>\n",
              "    </tr>\n",
              "    <tr>\n",
              "      <th>4</th>\n",
              "      <td>JAWA TENGAH</td>\n",
              "      <td>PURWOREJO</td>\n",
              "      <td>3</td>\n",
              "      <td>1.0</td>\n",
              "      <td>33291</td>\n",
              "      <td>750.0</td>\n",
              "      <td>51</td>\n",
              "      <td>19808</td>\n",
              "      <td>Full</td>\n",
              "      <td>0.0</td>\n",
              "      <td>...</td>\n",
              "      <td>0.007376</td>\n",
              "      <td>0.0</td>\n",
              "      <td>0.0</td>\n",
              "      <td>0.0</td>\n",
              "      <td>27.200</td>\n",
              "      <td>5.3500</td>\n",
              "      <td>32.8550</td>\n",
              "      <td>8.10</td>\n",
              "      <td>0.0</td>\n",
              "      <td>0.0</td>\n",
              "    </tr>\n",
              "  </tbody>\n",
              "</table>\n",
              "<p>5 rows × 24 columns</p>\n",
              "</div>\n",
              "    <div class=\"colab-df-buttons\">\n",
              "\n",
              "  <div class=\"colab-df-container\">\n",
              "    <button class=\"colab-df-convert\" onclick=\"convertToInteractive('df-efa4267b-c9b4-4c6d-bfdd-5a12bff7f755')\"\n",
              "            title=\"Convert this dataframe to an interactive table.\"\n",
              "            style=\"display:none;\">\n",
              "\n",
              "  <svg xmlns=\"http://www.w3.org/2000/svg\" height=\"24px\" viewBox=\"0 -960 960 960\">\n",
              "    <path d=\"M120-120v-720h720v720H120Zm60-500h600v-160H180v160Zm220 220h160v-160H400v160Zm0 220h160v-160H400v160ZM180-400h160v-160H180v160Zm440 0h160v-160H620v160ZM180-180h160v-160H180v160Zm440 0h160v-160H620v160Z\"/>\n",
              "  </svg>\n",
              "    </button>\n",
              "\n",
              "  <style>\n",
              "    .colab-df-container {\n",
              "      display:flex;\n",
              "      gap: 12px;\n",
              "    }\n",
              "\n",
              "    .colab-df-convert {\n",
              "      background-color: #E8F0FE;\n",
              "      border: none;\n",
              "      border-radius: 50%;\n",
              "      cursor: pointer;\n",
              "      display: none;\n",
              "      fill: #1967D2;\n",
              "      height: 32px;\n",
              "      padding: 0 0 0 0;\n",
              "      width: 32px;\n",
              "    }\n",
              "\n",
              "    .colab-df-convert:hover {\n",
              "      background-color: #E2EBFA;\n",
              "      box-shadow: 0px 1px 2px rgba(60, 64, 67, 0.3), 0px 1px 3px 1px rgba(60, 64, 67, 0.15);\n",
              "      fill: #174EA6;\n",
              "    }\n",
              "\n",
              "    .colab-df-buttons div {\n",
              "      margin-bottom: 4px;\n",
              "    }\n",
              "\n",
              "    [theme=dark] .colab-df-convert {\n",
              "      background-color: #3B4455;\n",
              "      fill: #D2E3FC;\n",
              "    }\n",
              "\n",
              "    [theme=dark] .colab-df-convert:hover {\n",
              "      background-color: #434B5C;\n",
              "      box-shadow: 0px 1px 3px 1px rgba(0, 0, 0, 0.15);\n",
              "      filter: drop-shadow(0px 1px 2px rgba(0, 0, 0, 0.3));\n",
              "      fill: #FFFFFF;\n",
              "    }\n",
              "  </style>\n",
              "\n",
              "    <script>\n",
              "      const buttonEl =\n",
              "        document.querySelector('#df-efa4267b-c9b4-4c6d-bfdd-5a12bff7f755 button.colab-df-convert');\n",
              "      buttonEl.style.display =\n",
              "        google.colab.kernel.accessAllowed ? 'block' : 'none';\n",
              "\n",
              "      async function convertToInteractive(key) {\n",
              "        const element = document.querySelector('#df-efa4267b-c9b4-4c6d-bfdd-5a12bff7f755');\n",
              "        const dataTable =\n",
              "          await google.colab.kernel.invokeFunction('convertToInteractive',\n",
              "                                                    [key], {});\n",
              "        if (!dataTable) return;\n",
              "\n",
              "        const docLinkHtml = 'Like what you see? Visit the ' +\n",
              "          '<a target=\"_blank\" href=https://colab.research.google.com/notebooks/data_table.ipynb>data table notebook</a>'\n",
              "          + ' to learn more about interactive tables.';\n",
              "        element.innerHTML = '';\n",
              "        dataTable['output_type'] = 'display_data';\n",
              "        await google.colab.output.renderOutput(dataTable, element);\n",
              "        const docLink = document.createElement('div');\n",
              "        docLink.innerHTML = docLinkHtml;\n",
              "        element.appendChild(docLink);\n",
              "      }\n",
              "    </script>\n",
              "  </div>\n",
              "\n",
              "\n",
              "<div id=\"df-9819baf3-7d8e-4663-9495-ae37eda84ca7\">\n",
              "  <button class=\"colab-df-quickchart\" onclick=\"quickchart('df-9819baf3-7d8e-4663-9495-ae37eda84ca7')\"\n",
              "            title=\"Suggest charts\"\n",
              "            style=\"display:none;\">\n",
              "\n",
              "<svg xmlns=\"http://www.w3.org/2000/svg\" height=\"24px\"viewBox=\"0 0 24 24\"\n",
              "     width=\"24px\">\n",
              "    <g>\n",
              "        <path d=\"M19 3H5c-1.1 0-2 .9-2 2v14c0 1.1.9 2 2 2h14c1.1 0 2-.9 2-2V5c0-1.1-.9-2-2-2zM9 17H7v-7h2v7zm4 0h-2V7h2v10zm4 0h-2v-4h2v4z\"/>\n",
              "    </g>\n",
              "</svg>\n",
              "  </button>\n",
              "\n",
              "<style>\n",
              "  .colab-df-quickchart {\n",
              "      --bg-color: #E8F0FE;\n",
              "      --fill-color: #1967D2;\n",
              "      --hover-bg-color: #E2EBFA;\n",
              "      --hover-fill-color: #174EA6;\n",
              "      --disabled-fill-color: #AAA;\n",
              "      --disabled-bg-color: #DDD;\n",
              "  }\n",
              "\n",
              "  [theme=dark] .colab-df-quickchart {\n",
              "      --bg-color: #3B4455;\n",
              "      --fill-color: #D2E3FC;\n",
              "      --hover-bg-color: #434B5C;\n",
              "      --hover-fill-color: #FFFFFF;\n",
              "      --disabled-bg-color: #3B4455;\n",
              "      --disabled-fill-color: #666;\n",
              "  }\n",
              "\n",
              "  .colab-df-quickchart {\n",
              "    background-color: var(--bg-color);\n",
              "    border: none;\n",
              "    border-radius: 50%;\n",
              "    cursor: pointer;\n",
              "    display: none;\n",
              "    fill: var(--fill-color);\n",
              "    height: 32px;\n",
              "    padding: 0;\n",
              "    width: 32px;\n",
              "  }\n",
              "\n",
              "  .colab-df-quickchart:hover {\n",
              "    background-color: var(--hover-bg-color);\n",
              "    box-shadow: 0 1px 2px rgba(60, 64, 67, 0.3), 0 1px 3px 1px rgba(60, 64, 67, 0.15);\n",
              "    fill: var(--button-hover-fill-color);\n",
              "  }\n",
              "\n",
              "  .colab-df-quickchart-complete:disabled,\n",
              "  .colab-df-quickchart-complete:disabled:hover {\n",
              "    background-color: var(--disabled-bg-color);\n",
              "    fill: var(--disabled-fill-color);\n",
              "    box-shadow: none;\n",
              "  }\n",
              "\n",
              "  .colab-df-spinner {\n",
              "    border: 2px solid var(--fill-color);\n",
              "    border-color: transparent;\n",
              "    border-bottom-color: var(--fill-color);\n",
              "    animation:\n",
              "      spin 1s steps(1) infinite;\n",
              "  }\n",
              "\n",
              "  @keyframes spin {\n",
              "    0% {\n",
              "      border-color: transparent;\n",
              "      border-bottom-color: var(--fill-color);\n",
              "      border-left-color: var(--fill-color);\n",
              "    }\n",
              "    20% {\n",
              "      border-color: transparent;\n",
              "      border-left-color: var(--fill-color);\n",
              "      border-top-color: var(--fill-color);\n",
              "    }\n",
              "    30% {\n",
              "      border-color: transparent;\n",
              "      border-left-color: var(--fill-color);\n",
              "      border-top-color: var(--fill-color);\n",
              "      border-right-color: var(--fill-color);\n",
              "    }\n",
              "    40% {\n",
              "      border-color: transparent;\n",
              "      border-right-color: var(--fill-color);\n",
              "      border-top-color: var(--fill-color);\n",
              "    }\n",
              "    60% {\n",
              "      border-color: transparent;\n",
              "      border-right-color: var(--fill-color);\n",
              "    }\n",
              "    80% {\n",
              "      border-color: transparent;\n",
              "      border-right-color: var(--fill-color);\n",
              "      border-bottom-color: var(--fill-color);\n",
              "    }\n",
              "    90% {\n",
              "      border-color: transparent;\n",
              "      border-bottom-color: var(--fill-color);\n",
              "    }\n",
              "  }\n",
              "</style>\n",
              "\n",
              "  <script>\n",
              "    async function quickchart(key) {\n",
              "      const quickchartButtonEl =\n",
              "        document.querySelector('#' + key + ' button');\n",
              "      quickchartButtonEl.disabled = true;  // To prevent multiple clicks.\n",
              "      quickchartButtonEl.classList.add('colab-df-spinner');\n",
              "      try {\n",
              "        const charts = await google.colab.kernel.invokeFunction(\n",
              "            'suggestCharts', [key], {});\n",
              "      } catch (error) {\n",
              "        console.error('Error during call to suggestCharts:', error);\n",
              "      }\n",
              "      quickchartButtonEl.classList.remove('colab-df-spinner');\n",
              "      quickchartButtonEl.classList.add('colab-df-quickchart-complete');\n",
              "    }\n",
              "    (() => {\n",
              "      let quickchartButtonEl =\n",
              "        document.querySelector('#df-9819baf3-7d8e-4663-9495-ae37eda84ca7 button');\n",
              "      quickchartButtonEl.style.display =\n",
              "        google.colab.kernel.accessAllowed ? 'block' : 'none';\n",
              "    })();\n",
              "  </script>\n",
              "</div>\n",
              "\n",
              "    </div>\n",
              "  </div>\n"
            ],
            "application/vnd.google.colaboratory.intrinsic+json": {
              "type": "dataframe",
              "variable_name": "data"
            }
          },
          "metadata": {},
          "execution_count": 21
        }
      ]
    },
    {
      "cell_type": "markdown",
      "source": [
        "##Finishing"
      ],
      "metadata": {
        "id": "PYkQIISsSi_o"
      }
    },
    {
      "cell_type": "markdown",
      "source": [],
      "metadata": {
        "id": "8sYQuv2WSi8H"
      }
    },
    {
      "cell_type": "code",
      "source": [
        "# Mengidentifikasi jumlah nilai inf dan -inf\n",
        "# SR\n",
        "inf_count = np.isinf(data['SR']).sum()\n",
        "neg_inf_count = np.isneginf(data['SR']).sum()\n",
        "# FCR\n",
        "inf_count = np.isinf(data['FCR']).sum()\n",
        "neg_inf_count = np.isneginf(data['FCR']).sum()\n",
        "# ADG\n",
        "inf_count = np.isinf(data['ADG']).sum()\n",
        "neg_inf_count = np.isneginf(data['ADG']).sum()\n",
        "\n",
        "print(f'Jumlah nilai inf dalam SR: {inf_count}')\n",
        "print(f'Jumlah nilai -inf dalam SR: {neg_inf_count}')\n",
        "print(f'Jumlah nilai inf dalam FCR: {inf_count}')\n",
        "print(f'Jumlah nilai -inf dalam FCR: {neg_inf_count}')\n",
        "print(f'Jumlah nilai inf dalam ADG: {inf_count}')\n",
        "print(f'Jumlah nilai -inf dalam ADG: {neg_inf_count}')"
      ],
      "metadata": {
        "colab": {
          "base_uri": "https://localhost:8080/"
        },
        "id": "-E3mw2Bdq03j",
        "outputId": "8657b686-2653-4689-947b-833b68a4283c"
      },
      "execution_count": 22,
      "outputs": [
        {
          "output_type": "stream",
          "name": "stdout",
          "text": [
            "Jumlah nilai inf dalam SR: 135266\n",
            "Jumlah nilai -inf dalam SR: 67633\n",
            "Jumlah nilai inf dalam FCR: 135266\n",
            "Jumlah nilai -inf dalam FCR: 67633\n",
            "Jumlah nilai inf dalam ADG: 135266\n",
            "Jumlah nilai -inf dalam ADG: 67633\n"
          ]
        }
      ]
    },
    {
      "cell_type": "code",
      "source": [
        "# Mengganti nilai inf dan -inf dengan median dari data yang valid\n",
        "# SR\n",
        "median_value = data.replace([np.inf, -np.inf], np.nan)['SR'].median()\n",
        "data['SR'] = data['SR'].replace([np.inf, -np.inf], median_value)\n",
        "# FCR\n",
        "median_value = data.replace([np.inf, -np.inf], np.nan)['FCR'].median()\n",
        "data['FCR'] = data['FCR'].replace([np.inf, -np.inf], median_value)\n",
        "# ADG\n",
        "median_value = data.replace([np.inf, -np.inf], np.nan)['ADG'].median()\n",
        "data['ADG'] = data['ADG'].replace([np.inf, -np.inf], median_value)"
      ],
      "metadata": {
        "id": "9e6PKtZSrFC-"
      },
      "execution_count": 23,
      "outputs": []
    },
    {
      "cell_type": "code",
      "source": [
        "from scipy.stats import skew\n",
        "\n",
        "# Menghitung skewness untuk kolom SR, FCR, ADG\n",
        "skewness_sr = skew(data['SR'], nan_policy='omit')\n",
        "skewness_fcr = skew(data['FCR'], nan_policy='omit')\n",
        "skewness_adg = skew(data['ADG'], nan_policy='omit')\n",
        "\n",
        "print(f'Skewness SR: {skewness_sr}')\n",
        "print(f'Skewness FCR: {skewness_fcr}')\n",
        "print(f'Skewness ADG: {skewness_adg}')"
      ],
      "metadata": {
        "colab": {
          "base_uri": "https://localhost:8080/"
        },
        "id": "JyOTHySdrAKO",
        "outputId": "94fd4a33-8af7-4a5d-938d-83419d287401"
      },
      "execution_count": 24,
      "outputs": [
        {
          "output_type": "stream",
          "name": "stdout",
          "text": [
            "Skewness SR: 31.584243776039788\n",
            "Skewness FCR: 2.894886248463946\n",
            "Skewness ADG: 12.585469237501234\n"
          ]
        }
      ]
    },
    {
      "cell_type": "code",
      "source": [
        "# Menggunakan log transformasi untuk mengurangi skewness\n",
        "data['SR_log'] = np.log1p(data['SR'])\n",
        "data['FCR_log'] = np.log1p(data['FCR'])\n",
        "data['ADG_log'] = np.log1p(data['ADG'])\n",
        "\n",
        "# Menghitung ulang skewness setelah transformasi\n",
        "skewness_sr_log = skew(data['SR_log'], nan_policy='omit')\n",
        "skewness_fcr_log = skew(data['FCR_log'], nan_policy='omit')\n",
        "skewness_adg_log = skew(data['ADG_log'], nan_policy='omit')\n",
        "\n",
        "print(f'Skewness SR (Log): {skewness_sr_log}')\n",
        "print(f'Skewness FCR (Log): {skewness_fcr_log}')\n",
        "print(f'Skewness ADG (Log): {skewness_adg_log}')"
      ],
      "metadata": {
        "colab": {
          "base_uri": "https://localhost:8080/"
        },
        "id": "VJkH4gc5rN9r",
        "outputId": "17b4c0ba-bb8c-4aa9-c89b-5c177a98f8f9"
      },
      "execution_count": 25,
      "outputs": [
        {
          "output_type": "stream",
          "name": "stdout",
          "text": [
            "Skewness SR (Log): 4.978312971974694\n",
            "Skewness FCR (Log): 2.609574270354391\n",
            "Skewness ADG (Log): 3.4709226512613864\n"
          ]
        },
        {
          "output_type": "stream",
          "name": "stderr",
          "text": [
            "/usr/local/lib/python3.10/dist-packages/pandas/core/arraylike.py:396: RuntimeWarning: invalid value encountered in log1p\n",
            "  result = getattr(ufunc, method)(*inputs, **kwargs)\n"
          ]
        }
      ]
    },
    {
      "cell_type": "code",
      "source": [
        "data.info()"
      ],
      "metadata": {
        "colab": {
          "base_uri": "https://localhost:8080/"
        },
        "id": "lPDlTHAqrQXU",
        "outputId": "343d7057-d323-4ab2-b8df-00f56d299ef9"
      },
      "execution_count": 26,
      "outputs": [
        {
          "output_type": "stream",
          "name": "stdout",
          "text": [
            "<class 'pandas.core.frame.DataFrame'>\n",
            "Index: 151239 entries, 0 to 167106\n",
            "Data columns (total 27 columns):\n",
            " #   Column                   Non-Null Count   Dtype  \n",
            "---  ------                   --------------   -----  \n",
            " 0   province                 151239 non-null  object \n",
            " 1   regency                  151239 non-null  object \n",
            " 2   farm_id                  151239 non-null  int64  \n",
            " 3   deep                     151239 non-null  float64\n",
            " 4   pond_id                  151239 non-null  int64  \n",
            " 5   area                     151239 non-null  float64\n",
            " 6   duration_days            151239 non-null  int64  \n",
            " 7   cycle_id                 151239 non-null  int64  \n",
            " 8   status                   151239 non-null  object \n",
            " 9   fasting                  151239 non-null  float64\n",
            " 10  SR                       151239 non-null  float64\n",
            " 11  ADG                      151239 non-null  float64\n",
            " 12  total_feed               151239 non-null  float64\n",
            " 13  total_weight             151239 non-null  float64\n",
            " 14  FCR                      151239 non-null  float64\n",
            " 15  transparency             151239 non-null  float64\n",
            " 16  tom                      151239 non-null  float64\n",
            " 17  total_plankton_          151239 non-null  float64\n",
            " 18  avg_temp                 151239 non-null  float64\n",
            " 19  avg_do                   151239 non-null  float64\n",
            " 20  avg_salinity             151239 non-null  float64\n",
            " 21  avg_pH                   151239 non-null  float64\n",
            " 22  avg_nutrient             151239 non-null  float64\n",
            " 23  avg_alkalinity_hardness  151239 non-null  float64\n",
            " 24  SR_log                   151239 non-null  float64\n",
            " 25  FCR_log                  151239 non-null  float64\n",
            " 26  ADG_log                  149573 non-null  float64\n",
            "dtypes: float64(20), int64(4), object(3)\n",
            "memory usage: 32.3+ MB\n"
          ]
        }
      ]
    },
    {
      "cell_type": "code",
      "source": [
        "data.duplicated().sum()"
      ],
      "metadata": {
        "colab": {
          "base_uri": "https://localhost:8080/"
        },
        "id": "BDqcyk-vrmpj",
        "outputId": "e15f6842-5c1b-4351-e470-83ab7547ab77"
      },
      "execution_count": 27,
      "outputs": [
        {
          "output_type": "execute_result",
          "data": {
            "text/plain": [
              "67733"
            ]
          },
          "metadata": {},
          "execution_count": 27
        }
      ]
    },
    {
      "cell_type": "code",
      "source": [
        "data = data.drop_duplicates()"
      ],
      "metadata": {
        "id": "VePM7uzCt2cg"
      },
      "execution_count": 28,
      "outputs": []
    },
    {
      "cell_type": "code",
      "source": [
        "data = data.dropna()"
      ],
      "metadata": {
        "id": "wILahgxc0EZr"
      },
      "execution_count": 29,
      "outputs": []
    },
    {
      "cell_type": "markdown",
      "source": [
        "#Uji Signifikansi Performa Budidaya terhadap Kolam, Tambak, dan Durasi Budidaya\n",
        "\n",
        "Untuk melihat ada tidaknya perbedaan signifikan performa budidaya antara: Kolam, Tambak, dan Durasi Budidaya maka dilakukan uji non-parametrik Kruskal-Wallis.\n",
        "\n",
        "Kruskal-Wallis digunakan saat data yang digunakan untuk variabel dependen bersifat ordinal, interval, atau rasio, tetapi tidak mengikuti distribusi normal. Selain itu Kruskal-Wallis digunakan untuk membandingkan lebih dari dua grup pada variabel independen (kolam, tambak, dan  durasi budidaya masing-masing memiliki lebih dari dua kelompok)."
      ],
      "metadata": {
        "id": "UKzO5-XiSwir"
      }
    },
    {
      "cell_type": "code",
      "source": [
        "# data SR, FCR, dan ADG menunjukkan positif skewed (condong ke kanan) jadi pakai uji non-parametik\n",
        "# (Kruskal-Wallis) jika p-value < 0.05, signifikan berbeda\n",
        "\n",
        "import scipy.stats as stats\n",
        "import statsmodels.api as sm\n",
        "from scipy.stats import kruskal\n",
        "\n",
        "#uji kruskal-Wallis pada kolam (pond_id)\n",
        "##mengelompokkan data berdasarkan id kolam\n",
        "SR_pond = [group['SR_log'].values for name, group in data.groupby('pond_id')]\n",
        "ADG_pond = [group['ADG_log'].values for name, group in data.groupby('pond_id')]\n",
        "FCR_pond = [group['FCR_log'].values for name, group in data.groupby('pond_id')]\n",
        "\n",
        "#uji Kruskal-Wallis untuk SR berdasarkan kolam\n",
        "print(\"Hasil Uji Kruskal-Wallis untuk SR berdasarkan kolam:\", kruskal(*SR_pond))\n",
        "#uji Kruskal-Wallis untuk ADG berdasarkan kolam\n",
        "print(\"Hasil Uji Kruskal-Wallis untuk ADG berdasarkan kolam:\", kruskal(*ADG_pond))\n",
        "#uji Kruskal-Wallis untuk FCR berdasarkan kolam\n",
        "print(\"Hasil Uji Kruskal-Wallis untuk FCR berdasarkan kolam:\", kruskal(*FCR_pond))\n",
        "\n",
        "#uji kruskal-Wallis pada tambak (farm_id)\n",
        "##mengelompokkan data berdasarkan id tambak\n",
        "SR_farm = [group['SR_log'].values for name, group in data.groupby('farm_id')]\n",
        "ADG_farm = [group['ADG_log'].values for name, group in data.groupby('farm_id')]\n",
        "FCR_farm = [group['FCR_log'].values for name, group in data.groupby('farm_id')]\n",
        "\n",
        "#uji Kruskal-Wallis untuk SR berdasarkan kolam\n",
        "print(\"Hasil Uji Kruskal-Wallis untuk SR berdasarkan tambak:\", kruskal(*SR_farm))\n",
        "#uji Kruskal-Wallis untuk ADG berdasarkan kolam\n",
        "print(\"Hasil Uji Kruskal-Wallis untuk ADG berdasarkan tambak:\", kruskal(*ADG_farm))\n",
        "#uji Kruskal-Wallis untuk FCR berdasarkan kolam\n",
        "print(\"Hasil Uji Kruskal-Wallis untuk FCR berdasarkan tambak:\", kruskal(*FCR_farm))\n",
        "\n",
        "#uji kruskal-Wallis pada waktu budidaya (duration_days)\n",
        "##mengelompokkan data berdasarkan duration_days\n",
        "SR_days = [group['SR_log'].values for name, group in data.groupby('duration_days')]\n",
        "ADG_days = [group['ADG_log'].values for name, group in data.groupby('duration_days')]\n",
        "FCR_days = [group['FCR_log'].values for name, group in data.groupby('duration_days')]\n",
        "\n",
        "#uji Kruskal-Wallis untuk SR berdasarkan kolam\n",
        "print(\"Hasil Uji Kruskal-Wallis untuk SR berdasarkan waktu budidaya:\", kruskal(*SR_days))\n",
        "#uji Kruskal-Wallis untuk ADG berdasarkan kolam\n",
        "print(\"Hasil Uji Kruskal-Wallis untuk ADG berdasarkan waktu budidaya:\", kruskal(*ADG_days))\n",
        "#uji Kruskal-Wallis untuk FCR berdasarkan kolam\n",
        "print(\"Hasil Uji Kruskal-Wallis untuk FCR berdasarkan waktu budidaya:\", kruskal(*FCR_days))"
      ],
      "metadata": {
        "colab": {
          "base_uri": "https://localhost:8080/"
        },
        "id": "QqIKUvwIt8RA",
        "outputId": "4e05af8d-43ef-4f08-c6d5-d4243852364b"
      },
      "execution_count": 30,
      "outputs": [
        {
          "output_type": "stream",
          "name": "stdout",
          "text": [
            "Hasil Uji Kruskal-Wallis untuk SR berdasarkan kolam: KruskalResult(statistic=31869.0470207066, pvalue=0.0)\n",
            "Hasil Uji Kruskal-Wallis untuk ADG berdasarkan kolam: KruskalResult(statistic=23673.032848814448, pvalue=0.0)\n",
            "Hasil Uji Kruskal-Wallis untuk FCR berdasarkan kolam: KruskalResult(statistic=77959.24006576829, pvalue=0.0)\n",
            "Hasil Uji Kruskal-Wallis untuk SR berdasarkan tambak: KruskalResult(statistic=26769.135470133326, pvalue=0.0)\n",
            "Hasil Uji Kruskal-Wallis untuk ADG berdasarkan tambak: KruskalResult(statistic=14641.117397361711, pvalue=0.0)\n",
            "Hasil Uji Kruskal-Wallis untuk FCR berdasarkan tambak: KruskalResult(statistic=59155.20874655121, pvalue=0.0)\n",
            "Hasil Uji Kruskal-Wallis untuk SR berdasarkan waktu budidaya: KruskalResult(statistic=19340.28907938499, pvalue=0.0)\n",
            "Hasil Uji Kruskal-Wallis untuk ADG berdasarkan waktu budidaya: KruskalResult(statistic=12143.55429819889, pvalue=0.0)\n",
            "Hasil Uji Kruskal-Wallis untuk FCR berdasarkan waktu budidaya: KruskalResult(statistic=34537.60356453273, pvalue=0.0)\n"
          ]
        }
      ]
    },
    {
      "cell_type": "markdown",
      "source": [
        "Berdasarkan hasil Uji Kruskal-Wallis dimana seluruh pvalue < 0.05, didapati bahwa terdapat perbedaan yang signifikan dalam seluruh performa budidaya (SR, FCR, ADG) baik antar kolam, tambak, maupun waktu budidaya.\n"
      ],
      "metadata": {
        "id": "_xNIxLo6Upgj"
      }
    },
    {
      "cell_type": "markdown",
      "source": [
        "#Uji Korelasi Performa Budidaya dengan Kualitas Air\n",
        "\n",
        "Uji korelasi ini dilakukan dengan menggunakan\n",
        "Uji Korelasi Spearman (Spearman's rank correlation) yang merupakan metode non-parametrik untuk menilai kekuatan dan arah hubungan monotonic antara dua variabel.Hubungan monotonic adalah ketika salah satu variabel meningkat, variabel lainnya juga meningkat, atau ketika satu menurun, yang lain juga menurun. Namun, hubungan tidak harus linear seperti dalam uji Pearson."
      ],
      "metadata": {
        "id": "73F0HzMOUylb"
      }
    },
    {
      "cell_type": "code",
      "source": [
        "import seaborn as sns\n",
        "import matplotlib.pyplot as plt\n",
        "from scipy.stats import spearmanr\n",
        "\n",
        "corr_matrix = data[['avg_temp', 'avg_do',\n",
        "       'avg_salinity', 'avg_pH', 'transparency',\n",
        "       'avg_nutrient', 'avg_alkalinity_hardness', 'tom', 'total_plankton_', 'SR_log', 'ADG_log', 'FCR_log']].corr(method='spearman')\n",
        "\n",
        "plt.figure(figsize=(10, 8))\n",
        "sns.heatmap(corr_matrix, annot=True, cmap='coolwarm', vmin=-1, vmax=1)\n",
        "plt.title('Heatmap Korelasi Spearman antara Kualitas Air dan Performa Budidaya')\n",
        "plt.show()"
      ],
      "metadata": {
        "colab": {
          "base_uri": "https://localhost:8080/",
          "height": 779
        },
        "id": "XA3UhXysuEon",
        "outputId": "7580ff5b-371d-4ac3-82ae-36128ed85f62"
      },
      "execution_count": 31,
      "outputs": [
        {
          "output_type": "display_data",
          "data": {
            "text/plain": [
              "<Figure size 1000x800 with 2 Axes>"
            ],
            "image/png": "[encoded data removed]"
          },
          "metadata": {}
        }
      ]
    },
    {
      "cell_type": "markdown",
      "source": [
        "koefisien korelasi yang berkisar dari -1 hingga +1\n",
        "\n",
        "*   Warna merah : korelasi positif kuat\n",
        "*   Warna biru : korelasi negatif kuat\n",
        "*   Warna putih : tidak ada korelasi/korelasi sangat lemah\n",
        "\n",
        "Survival Rate :\n",
        "— avg_do (Dissolved Oxygen): Korelasi positif lemah (0.066) menunjukkan bahwa ketika oksigen terlarut meningkat, maka akan meningkatkan Survival Rate (SR), namun efeknya tidak terlalu kuat.\n",
        "— avg_salinity (Salinitas): Korelasi positif (0.17) menunjukkan hubungan positif yang sedikit lebih kuat dibandingkan avg_do. Artinya, salinitas yang lebih tinggi berkorelasi dengan Survival Rate yang lebih baik.\n",
        "— Transparansi, pH, dan parameter lainnya menunjukkan korelasi yang sangat lemah dengan SR.\n",
        "\n",
        "Average Daily Gain :\n",
        "— avg_salinity: Korelasi positif kecil (0.035) menunjukkan hubungan yang lemah tetapi positif, di mana peningkatan salinitas sedikit berkorelasi dengan peningkatan ADG. Meskipun demikian, kekuatan korelasi ini sangat rendah.\n",
        "— avg_do: Korelasi sangat rendah (0.0041) menunjukkan hubungan yang hampir netral antara oksigen terlarut dan ADG.\n",
        "— Sebagian besar parameter kualitas air seperti pH, nutrient, dan transparansi menunjukkan korelasi yang sangat rendah\n",
        "\n",
        "Feed Conversion Ratio :\n",
        "— avg_temp (Suhu): Korelasi negatif (-0.14) menunjukkan bahwa suhu yang lebih tinggi cenderung berkorelasi dengan FCR yang lebih baik (nilai FCR yang lebih rendah berarti efisiensi konversi pakan yang lebih baik).\n",
        "— avg_do: Korelasi sangat lemah (-0.19) menunjukkan bahwa peningkatan oksigen terlarut sedikit terkait dengan efisiensi pakan yang lebih baik.\n",
        "— avg_pH: Korelasi negatif (-0.22) menunjukkan bahwa pH yang lebih rendah (atau lebih dekat ke tingkat asam) cenderung dikaitkan dengan FCR yang lebih rendah (lebih baik).\n",
        "\n",
        "Hasil ini mengindikasikan bahwa meskipun kualitas air memiliki hubungan dengan performa budidaya, pengaruhnya tidak terlalu kuat untuk semua parameter."
      ],
      "metadata": {
        "id": "tTo0oWHMVD9C"
      }
    },
    {
      "cell_type": "markdown",
      "source": [
        "#Analisis Klaster KMeans terhadap Kedalaman dan Luas Kolam"
      ],
      "metadata": {
        "id": "f3iDJJ6gXqMe"
      }
    },
    {
      "cell_type": "code",
      "source": [
        "from sklearn.preprocessing import StandardScaler\n",
        "from sklearn.cluster import KMeans\n",
        "import matplotlib.pyplot as plt\n",
        "\n",
        "# Normalisasi\n",
        "scaler = StandardScaler()\n",
        "data_normalized = scaler.fit_transform(data[['area', 'deep', 'SR_log', 'FCR_log', 'ADG_log']])\n",
        "\n",
        "# Mencari inertia untuk berbagai nilai k (Metode Elbow mencari nilai k)\n",
        "inertia = []\n",
        "K = range(1, 10)\n",
        "\n",
        "for k in K:\n",
        "    kmeans = KMeans(n_clusters=k)\n",
        "    kmeans.fit(data_normalized)\n",
        "    inertia.append(kmeans.inertia_)\n",
        "\n",
        "# Plot inertia\n",
        "plt.figure(figsize=(8, 5))\n",
        "plt.plot(K, inertia, 'bo-')\n",
        "plt.xlabel('Jumlah Klaster (k)')\n",
        "plt.ylabel('Inertia')\n",
        "plt.title('Metode Elbow untuk Menentukan Jumlah Klaster Optimal')\n",
        "plt.show()"
      ],
      "metadata": {
        "colab": {
          "base_uri": "https://localhost:8080/",
          "height": 819
        },
        "id": "9SqFcQMtzaWr",
        "outputId": "cba6127e-dbec-443e-fdca-673c08221c6d"
      },
      "execution_count": null,
      "outputs": [
        {
          "output_type": "stream",
          "name": "stderr",
          "text": [
            "/usr/local/lib/python3.10/dist-packages/sklearn/cluster/_kmeans.py:870: FutureWarning: The default value of `n_init` will change from 10 to 'auto' in 1.4. Set the value of `n_init` explicitly to suppress the warning\n",
            "  warnings.warn(\n",
            "/usr/local/lib/python3.10/dist-packages/sklearn/cluster/_kmeans.py:870: FutureWarning: The default value of `n_init` will change from 10 to 'auto' in 1.4. Set the value of `n_init` explicitly to suppress the warning\n",
            "  warnings.warn(\n",
            "/usr/local/lib/python3.10/dist-packages/sklearn/cluster/_kmeans.py:870: FutureWarning: The default value of `n_init` will change from 10 to 'auto' in 1.4. Set the value of `n_init` explicitly to suppress the warning\n",
            "  warnings.warn(\n",
            "/usr/local/lib/python3.10/dist-packages/sklearn/cluster/_kmeans.py:870: FutureWarning: The default value of `n_init` will change from 10 to 'auto' in 1.4. Set the value of `n_init` explicitly to suppress the warning\n",
            "  warnings.warn(\n",
            "/usr/local/lib/python3.10/dist-packages/sklearn/cluster/_kmeans.py:870: FutureWarning: The default value of `n_init` will change from 10 to 'auto' in 1.4. Set the value of `n_init` explicitly to suppress the warning\n",
            "  warnings.warn(\n",
            "/usr/local/lib/python3.10/dist-packages/sklearn/cluster/_kmeans.py:870: FutureWarning: The default value of `n_init` will change from 10 to 'auto' in 1.4. Set the value of `n_init` explicitly to suppress the warning\n",
            "  warnings.warn(\n",
            "/usr/local/lib/python3.10/dist-packages/sklearn/cluster/_kmeans.py:870: FutureWarning: The default value of `n_init` will change from 10 to 'auto' in 1.4. Set the value of `n_init` explicitly to suppress the warning\n",
            "  warnings.warn(\n",
            "/usr/local/lib/python3.10/dist-packages/sklearn/cluster/_kmeans.py:870: FutureWarning: The default value of `n_init` will change from 10 to 'auto' in 1.4. Set the value of `n_init` explicitly to suppress the warning\n",
            "  warnings.warn(\n",
            "/usr/local/lib/python3.10/dist-packages/sklearn/cluster/_kmeans.py:870: FutureWarning: The default value of `n_init` will change from 10 to 'auto' in 1.4. Set the value of `n_init` explicitly to suppress the warning\n",
            "  warnings.warn(\n"
          ]
        },
        {
          "output_type": "display_data",
          "data": {
            "text/plain": [
              "<Figure size 800x500 with 1 Axes>"
            ],
            "image/png": "[encoded data removed]"
          },
          "metadata": {}
        }
      ]
    },
    {
      "cell_type": "markdown",
      "source": [
        "Titik “elbow” yang paling jelas terlihat sekitar antara 4 & 5 klaster karena inersia mulai mengalami penurunan pada klaster 4 & 5. Berdasarkan grafik ini, jumlah klaster yang optimal adalah 4 atau 5."
      ],
      "metadata": {
        "id": "3gtpQB6vYAUn"
      }
    },
    {
      "cell_type": "code",
      "source": [
        "from sklearn.metrics import silhouette_score\n",
        "\n",
        "# Mencari Silhouette Score untuk berbagai nilai k\n",
        "silhouette_scores = []\n",
        "K = range(2, 10)\n",
        "\n",
        "for k in K:\n",
        "    kmeans = KMeans(n_clusters=k)\n",
        "    kmeans.fit(data_normalized)\n",
        "    labels = kmeans.labels_\n",
        "    silhouette_scores.append(silhouette_score(data_normalized, labels))\n",
        "\n",
        "# Plot Silhouette Score\n",
        "plt.figure(figsize=(8, 5))\n",
        "plt.plot(K, silhouette_scores, 'bo-')\n",
        "plt.xlabel('Jumlah Klaster (k)')\n",
        "plt.ylabel('Silhouette Score')\n",
        "plt.title('Silhouette Score untuk Menentukan Jumlah Klaster Optimal')\n",
        "plt.show()"
      ],
      "metadata": {
        "colab": {
          "base_uri": "https://localhost:8080/",
          "height": 785
        },
        "id": "JyfGUIQ_0TCd",
        "outputId": "793bc28e-e565-4ca7-e90f-1afd1857186d"
      },
      "execution_count": null,
      "outputs": [
        {
          "output_type": "stream",
          "name": "stderr",
          "text": [
            "/usr/local/lib/python3.10/dist-packages/sklearn/cluster/_kmeans.py:870: FutureWarning: The default value of `n_init` will change from 10 to 'auto' in 1.4. Set the value of `n_init` explicitly to suppress the warning\n",
            "  warnings.warn(\n",
            "/usr/local/lib/python3.10/dist-packages/sklearn/cluster/_kmeans.py:870: FutureWarning: The default value of `n_init` will change from 10 to 'auto' in 1.4. Set the value of `n_init` explicitly to suppress the warning\n",
            "  warnings.warn(\n",
            "/usr/local/lib/python3.10/dist-packages/sklearn/cluster/_kmeans.py:870: FutureWarning: The default value of `n_init` will change from 10 to 'auto' in 1.4. Set the value of `n_init` explicitly to suppress the warning\n",
            "  warnings.warn(\n",
            "/usr/local/lib/python3.10/dist-packages/sklearn/cluster/_kmeans.py:870: FutureWarning: The default value of `n_init` will change from 10 to 'auto' in 1.4. Set the value of `n_init` explicitly to suppress the warning\n",
            "  warnings.warn(\n",
            "/usr/local/lib/python3.10/dist-packages/sklearn/cluster/_kmeans.py:870: FutureWarning: The default value of `n_init` will change from 10 to 'auto' in 1.4. Set the value of `n_init` explicitly to suppress the warning\n",
            "  warnings.warn(\n",
            "/usr/local/lib/python3.10/dist-packages/sklearn/cluster/_kmeans.py:870: FutureWarning: The default value of `n_init` will change from 10 to 'auto' in 1.4. Set the value of `n_init` explicitly to suppress the warning\n",
            "  warnings.warn(\n",
            "/usr/local/lib/python3.10/dist-packages/sklearn/cluster/_kmeans.py:870: FutureWarning: The default value of `n_init` will change from 10 to 'auto' in 1.4. Set the value of `n_init` explicitly to suppress the warning\n",
            "  warnings.warn(\n",
            "/usr/local/lib/python3.10/dist-packages/sklearn/cluster/_kmeans.py:870: FutureWarning: The default value of `n_init` will change from 10 to 'auto' in 1.4. Set the value of `n_init` explicitly to suppress the warning\n",
            "  warnings.warn(\n"
          ]
        },
        {
          "output_type": "display_data",
          "data": {
            "text/plain": [
              "<Figure size 800x500 with 1 Axes>"
            ],
            "image/png": "[encoded data removed]"
          },
          "metadata": {}
        }
      ]
    },
    {
      "cell_type": "markdown",
      "source": [
        "Berbeda dengan hasil Silhoutte yang menunjukkan nilai tertinggi pada klaster 3. Berdasarkan grafik ini, jumlah klaster yang optimal adalah 3."
      ],
      "metadata": {
        "id": "0InbBGLYYHxE"
      }
    },
    {
      "cell_type": "code",
      "source": [
        "# Analisis KMeans dengan 3 kluster\n",
        "kmeans = KMeans(n_clusters=3)\n",
        "data['cluster'] = kmeans.fit_predict(data_normalized)\n",
        "\n",
        "# Menampilkan karakteristik klaster\n",
        "cluster_characteristics = data.groupby('cluster')[['area', 'deep', 'SR_log', 'ADG_log', 'FCR_log']].mean()\n",
        "print(cluster_characteristics)\n",
        "\n",
        "\n",
        "# Visualisasi hasil klastering\n",
        "plt.scatter(data['area'], data['deep'], c=data['cluster'], cmap='rainbow')\n",
        "plt.xlabel('Luas Kolam')\n",
        "plt.ylabel('Kedalaman Kolam')\n",
        "plt.title('Hasil Klastering Kolam')\n",
        "plt.show()"
      ],
      "metadata": {
        "colab": {
          "base_uri": "https://localhost:8080/",
          "height": 613
        },
        "id": "_v14lmgz3RkY",
        "outputId": "068eadb8-1962-4cb3-eb97-b6fd3eddf358"
      },
      "execution_count": null,
      "outputs": [
        {
          "output_type": "stream",
          "name": "stderr",
          "text": [
            "/usr/local/lib/python3.10/dist-packages/sklearn/cluster/_kmeans.py:870: FutureWarning: The default value of `n_init` will change from 10 to 'auto' in 1.4. Set the value of `n_init` explicitly to suppress the warning\n",
            "  warnings.warn(\n"
          ]
        },
        {
          "output_type": "stream",
          "name": "stdout",
          "text": [
            "                 area        deep    SR_log   ADG_log   FCR_log\n",
            "cluster                                                        \n",
            "0         1577.955303    1.368832  0.187637  0.005703  0.033159\n",
            "1          968.038701  150.000000  0.129856  0.072113  0.030686\n",
            "2        33961.661342    1.200000  0.155675  0.074241  0.019918\n"
          ]
        },
        {
          "output_type": "display_data",
          "data": {
            "text/plain": [
              "<Figure size 640x480 with 1 Axes>"
            ],
            "image/png": "[encoded data removed]"
          },
          "metadata": {}
        }
      ]
    },
    {
      "cell_type": "markdown",
      "source": [
        "Cluster 0 memiliki area kolam yang relatif sedang (sekitar 1,577 m²) dan kedalaman yang moderat (1.37 m). Nilai SR dan ADG menunjukkan performa budidaya yang cukup baik, meskipun sedikit lebih tinggi dibanding cluster lain. Namun, FCR di cluster ini sedikit lebih tinggi, yang mungkin menunjukkan efisiensi pakan yang lebih rendah.\n",
        "\n",
        "Cluster 1 memiliki area kolam yang paling kecil (968 m²) namun memiliki kedalaman yang sangat tinggi (150 m), yang mungkin menunjukkan data outlier atau kondisi kolam yang tidak biasa. Nilai SR dan ADG sedikit lebih rendah dibandingkan cluster lainnya, yang mungkin menunjukkan performa budidaya yang kurang optimal. FCR juga lebih rendah dibanding Cluster 0, yang bisa berarti efisiensi pakan sedikit lebih baik.\n",
        "\n",
        "Cluster 2 memiliki area kolam yang sangat besar (33,961 m²) dengan kedalaman yang relatif dangkal (1.20 m). Nilai SR dan ADG menunjukkan performa budidaya yang baik, lebih tinggi dibandingkan cluster lainnya. FCR yang paling rendah di antara ketiga cluster menunjukkan efisiensi pakan yang sangat baik, yang berarti cluster ini mungkin memiliki kondisi budidaya yang optimal."
      ],
      "metadata": {
        "id": "DwuD8hHsYNeY"
      }
    },
    {
      "cell_type": "code",
      "source": [
        "silhouette_avg = silhouette_score(data_normalized, labels)\n",
        "print(f\"Silhouette Score: {silhouette_avg}\")"
      ],
      "metadata": {
        "colab": {
          "base_uri": "https://localhost:8080/"
        },
        "id": "LUg1bF3u57nb",
        "outputId": "5499677d-cbce-44fe-b75f-7bf4c5c4e3b7"
      },
      "execution_count": null,
      "outputs": [
        {
          "output_type": "stream",
          "name": "stdout",
          "text": [
            "Silhouette Score: 0.42750084636801705\n"
          ]
        }
      ]
    },
    {
      "cell_type": "markdown",
      "source": [
        "#Uji Signifikansi Performa Budidaya terhadap Kebijakan Puasa dan Tidak Puasa\n",
        "\n",
        "Melihat ada tidaknya perbedaan yang signifikan performa budidaya terhadap 'fasting' akan dilakukan dengan menggunakan uji Mann Whitney U. Uji Mann-Whitney U (atau sering disebut Wilcoxon rank-sum test) adalah metode non-parametrik yang digunakan untuk membandingkan dua kelompok independen ketika asumsi normalitas tidak terpenuhi dan ketika data diukur dalam skala ordinal (peringkat) atau interval."
      ],
      "metadata": {
        "id": "8MBjLHVeYZZ9"
      }
    },
    {
      "cell_type": "code",
      "source": [
        "data['fasting'].unique()"
      ],
      "metadata": {
        "colab": {
          "base_uri": "https://localhost:8080/"
        },
        "id": "GiA_zWe_6AJc",
        "outputId": "08a28706-b585-4a30-803f-0b2d88100329"
      },
      "execution_count": 32,
      "outputs": [
        {
          "output_type": "execute_result",
          "data": {
            "text/plain": [
              "array([0., 1.])"
            ]
          },
          "metadata": {},
          "execution_count": 32
        }
      ]
    },
    {
      "cell_type": "code",
      "source": [
        "from scipy.stats import mannwhitneyu\n",
        "\n",
        "# Membagi data berdasarkan status fasting\n",
        "fasting = data[data['fasting'] == 1]\n",
        "non_fasting = data[data['fasting'] == 0]\n",
        "\n",
        "# Uji Mann-Whitney untuk SR\n",
        "sr_stat, sr_p = mannwhitneyu(fasting['SR_log'], non_fasting['SR_log'])\n",
        "print(f'Uji Mann-Whitney untuk SR: statistik={sr_stat}, p-value={sr_p}')\n",
        "\n",
        "# Uji Mann-Whitney untuk FCR\n",
        "fcr_stat, fcr_p = mannwhitneyu(fasting['FCR_log'], non_fasting['FCR_log'])\n",
        "print(f'Uji Mann-Whitney untuk FCR: statistik={fcr_stat}, p-value={fcr_p}')\n",
        "\n",
        "# Uji Mann-Whitney untuk ADG\n",
        "adg_stat, adg_p = mannwhitneyu(fasting['ADG_log'], non_fasting['ADG_log'])\n",
        "print(f'Uji Mann-Whitney untuk ADG: statistik={adg_stat}, p-value={adg_p}')"
      ],
      "metadata": {
        "colab": {
          "base_uri": "https://localhost:8080/"
        },
        "id": "NXsWqY6x6F9S",
        "outputId": "e1ea16c9-04e9-46ec-8ef7-7d8446f3eb35"
      },
      "execution_count": null,
      "outputs": [
        {
          "output_type": "stream",
          "name": "stdout",
          "text": [
            "Uji Mann-Whitney untuk SR: statistik=909843515.0, p-value=2.7300758012941337e-108\n",
            "Uji Mann-Whitney untuk FCR: statistik=829616380.0, p-value=0.09643226451371055\n",
            "Uji Mann-Whitney untuk ADG: statistik=851209161.0, p-value=7.277073782429499e-13\n"
          ]
        }
      ]
    },
    {
      "cell_type": "markdown",
      "source": [
        "Nilai p-value yang secara keseluruhan > 0.05 maka tidak ada perbedaan signifikan antara yang berpuasa ataupun tidak, sehingga tidak akan dilakukan analisis lanjutan."
      ],
      "metadata": {
        "id": "la0Q9FdyY5MT"
      }
    },
    {
      "cell_type": "markdown",
      "source": [
        "#Analisis Performa Budidaya dengan Lokasi Tambak"
      ],
      "metadata": {
        "id": "IyZObMsWZMbJ"
      }
    },
    {
      "cell_type": "code",
      "source": [
        "data['province'].value_counts()"
      ],
      "metadata": {
        "colab": {
          "base_uri": "https://localhost:8080/"
        },
        "id": "cRn1vmwp7L4b",
        "outputId": "5e61cad2-fedf-417f-8dc8-e17f5257b330"
      },
      "execution_count": null,
      "outputs": [
        {
          "output_type": "execute_result",
          "data": {
            "text/plain": [
              "province\n",
              "JAWA TENGAH                  34403\n",
              "JAWA BARAT                   14699\n",
              "JAWA TIMUR                   14518\n",
              "BALI                          6732\n",
              "LAMPUNG                       3974\n",
              "KEPULAUAN BANGKA BELITUNG     2642\n",
              "SULAWESI TENGAH               1959\n",
              "SULAWESI SELATAN              1155\n",
              "SUMATERA BARAT                 651\n",
              "ACEH                           546\n",
              "NUSA TENGGARA BARAT            510\n",
              "GORONTALO                       51\n",
              "Name: count, dtype: int64"
            ]
          },
          "metadata": {},
          "execution_count": 49
        }
      ]
    },
    {
      "cell_type": "code",
      "source": [
        "data['regency'].value_counts()"
      ],
      "metadata": {
        "colab": {
          "base_uri": "https://localhost:8080/"
        },
        "id": "XqjowmcZ7ZML",
        "outputId": "4cb3d071-fb6b-4a5a-e6ff-28a4490b1986"
      },
      "execution_count": null,
      "outputs": [
        {
          "output_type": "execute_result",
          "data": {
            "text/plain": [
              "regency\n",
              "CILACAP           31362\n",
              "CIREBON            8894\n",
              "JEMBRANA           6690\n",
              "SUBANG             5329\n",
              "JEMBER             4477\n",
              "PROBOLINGGO        3973\n",
              "PESAWARAN          3899\n",
              "BANGKA             2290\n",
              "KENDAL             2170\n",
              "DONGGALA           1959\n",
              "NGANJUK            1680\n",
              "LAMONGAN           1368\n",
              "BARRU              1155\n",
              "GRESIK              935\n",
              "BANYUWANGI          703\n",
              "AGAM                651\n",
              "SUMENEP             605\n",
              "PIDIE JAYA          546\n",
              "SUMBAWA             510\n",
              "PACITAN             452\n",
              "PANGANDARAN         439\n",
              "BANGKA SELATAN      352\n",
              "PURWOREJO           343\n",
              "SITUBONDO           325\n",
              "JEPARA              312\n",
              "PEMALANG            152\n",
              "LAMPUNG BARAT        75\n",
              "KEBUMEN              64\n",
              "POHUWATO             51\n",
              "BULELENG             42\n",
              "GARUT                37\n",
              "Name: count, dtype: int64"
            ]
          },
          "metadata": {},
          "execution_count": 50
        }
      ]
    },
    {
      "cell_type": "code",
      "source": [
        "#  Kruskal-Wallis untuk SR berdasarkan province\n",
        "kruskal_sr_province = kruskal(*[group['SR_log'].values for name, group in data.groupby('province')])\n",
        "print(f'Kruskal-Wallis untuk SR berdasarkan province: {kruskal_sr_province}')\n",
        "\n",
        "#  Kruskal-Wallis untuk SR berdasarkan regency\n",
        "kruskal_sr_regency = kruskal(*[group['SR_log'].values for name, group in data.groupby('regency')])\n",
        "print(f'Kruskal-Wallis untuk SR berdasarkan regency: {kruskal_sr_regency}')\n",
        "\n",
        "# Kruskal-Wallis untuk ADG berdasarkan province\n",
        "kruskal_adg_province = kruskal(*[group['ADG_log'].values for name, group in data.groupby('province')])\n",
        "print(f'Kruskal-Wallis untuk ADG berdasarkan province: {kruskal_adg_province}')\n",
        "\n",
        "# Kruskal-Wallis untuk ADG berdasarkan regency\n",
        "kruskal_adg_regency = kruskal(*[group['ADG_log'].values for name, group in data.groupby('regency')])\n",
        "print(f'Kruskal-Wallis untuk ADG berdasarkan regency: {kruskal_adg_regency}')\n",
        "\n",
        "# Kruskal-Wallis untuk FCR berdasarkan province\n",
        "kruskal_fcr_province = kruskal(*[group['FCR_log'].values for name, group in data.groupby('province')])\n",
        "print(f'Kruskal-Wallis untuk FCR berdasarkan province: {kruskal_fcr_province}')\n",
        "\n",
        "# Kruskal-Wallis untuk FCR berdasarkan regency\n",
        "kruskal_fcr_regency = kruskal(*[group['FCR_log'].values for name, group in data.groupby('regency')])\n",
        "print(f'Kruskal-Wallis untuk FCR berdasarkan regency: {kruskal_fcr_regency}')"
      ],
      "metadata": {
        "colab": {
          "base_uri": "https://localhost:8080/"
        },
        "id": "r6TJEp3EAr-f",
        "outputId": "855b12f3-d50b-42f3-f6e3-b08d98607f6d"
      },
      "execution_count": null,
      "outputs": [
        {
          "output_type": "stream",
          "name": "stdout",
          "text": [
            "Kruskal-Wallis untuk SR berdasarkan province: KruskalResult(statistic=5148.554024935233, pvalue=0.0)\n",
            "Kruskal-Wallis untuk SR berdasarkan regency: KruskalResult(statistic=10103.370669222544, pvalue=0.0)\n",
            "Kruskal-Wallis untuk ADG berdasarkan province: KruskalResult(statistic=1593.8979992995703, pvalue=0.0)\n",
            "Kruskal-Wallis untuk ADG berdasarkan regency: KruskalResult(statistic=4464.097185249734, pvalue=0.0)\n",
            "Kruskal-Wallis untuk FCR berdasarkan province: KruskalResult(statistic=18785.64918708424, pvalue=0.0)\n",
            "Kruskal-Wallis untuk FCR berdasarkan regency: KruskalResult(statistic=30080.3401506848, pvalue=0.0)\n"
          ]
        }
      ]
    },
    {
      "cell_type": "markdown",
      "source": [
        "Seluruh performa budidaya memiliki perbedaan signifikan baik pada provinsi maupun kabupaten."
      ],
      "metadata": {
        "id": "C4ziQqcMZbl6"
      }
    },
    {
      "cell_type": "code",
      "source": [
        "# Menghitung rata-rata SR, FCR, dan ADG untuk setiap provinsi\n",
        "average_province = data.groupby('province')[['SR_log', 'FCR_log', 'ADG_log']].mean()\n",
        "\n",
        "# Menampilkan hasil\n",
        "print(average_province)"
      ],
      "metadata": {
        "colab": {
          "base_uri": "https://localhost:8080/"
        },
        "id": "UBRcA206_lCH",
        "outputId": "512a063c-3b53-44a5-9db3-337e3e044509"
      },
      "execution_count": null,
      "outputs": [
        {
          "output_type": "stream",
          "name": "stdout",
          "text": [
            "                             SR_log   FCR_log   ADG_log\n",
            "province                                               \n",
            "ACEH                       0.245048  0.011136 -0.052331\n",
            "BALI                       0.173236  0.019627  0.012847\n",
            "GORONTALO                  0.276115  0.006158  0.336472\n",
            "JAWA BARAT                 0.177537  0.024231  0.015840\n",
            "JAWA TENGAH                0.174976  0.026155 -0.021316\n",
            "JAWA TIMUR                 0.221022  0.051856  0.044206\n",
            "KEPULAUAN BANGKA BELITUNG  0.165223  0.065847  0.156572\n",
            "LAMPUNG                    0.204108  0.017697 -0.019884\n",
            "NUSA TENGGARA BARAT        0.233834  0.058198 -0.047541\n",
            "SULAWESI SELATAN           0.220716  0.065724  0.202835\n",
            "SULAWESI TENGAH            0.136388  0.097984 -0.031083\n",
            "SUMATERA BARAT             0.309345  0.013099 -0.112109\n"
          ]
        }
      ]
    },
    {
      "cell_type": "markdown",
      "source": [
        "Provinsi dengan nilai SR mean paling tinggi adalah SUMATERA BARAT (0.309) yang mengindikasikan bahwa Sumatera Barat memiliki budidaya udang dengan taraf hidup yang paling tinggi, disusul dengan GORONTALO (0.276) dan ACEH (0.245). Sedangkan provinsi dengan taraf hidup udang yang paling rendah adalah provinsi Sulawesi Tengah (0.136).\n",
        "\n",
        "Provinsi dengan nilai FCR mean paling rendah mengindikasikan bahwa pemberian pakan dalam budidaya udang dinilai efisien. Provinsi dengan mean paling rendah (efisien) adalah provinsi GORONTALO (0.006) disusul dengan ACEH (0.011) dan SUMATERA BARAT (0.013) dan yang paling tinggi (tidak efisien) adalah provinsi Sulawesi Tengah (0.979).\n",
        "\n",
        "Provinsi dengan nilai ADG mean paling tinggi adalah provinsi GORONTALO (0.336) yang mengindikasikan bahwa pertumbuhan rerata berat udang harian paling baik terjadi di provinsi Gorontalo, disusul dengan SULAWESI SELATAN (0.202) dan KEP. BANGKA BELITUNG (0.156). Pertumbuhan rerata berat udang paling buruk terjadi di provinsi Sumatera Barat (-0.112)."
      ],
      "metadata": {
        "id": "0riZSuhRZ2nb"
      }
    },
    {
      "cell_type": "code",
      "source": [
        "average_province_sorted = average_province.sort_values(by='ADG_log', ascending=False)\n",
        "print(average_province_sorted)"
      ],
      "metadata": {
        "colab": {
          "base_uri": "https://localhost:8080/"
        },
        "id": "4a8rcAU4BzWU",
        "outputId": "a9a41df4-e4de-446d-c95f-10625734c3eb"
      },
      "execution_count": null,
      "outputs": [
        {
          "output_type": "stream",
          "name": "stdout",
          "text": [
            "                             SR_log   FCR_log   ADG_log\n",
            "province                                               \n",
            "GORONTALO                  0.276115  0.006158  0.336472\n",
            "SULAWESI SELATAN           0.220716  0.065724  0.202835\n",
            "KEPULAUAN BANGKA BELITUNG  0.165223  0.065847  0.156572\n",
            "JAWA TIMUR                 0.221022  0.051856  0.044206\n",
            "JAWA BARAT                 0.177537  0.024231  0.015840\n",
            "BALI                       0.173236  0.019627  0.012847\n",
            "LAMPUNG                    0.204108  0.017697 -0.019884\n",
            "JAWA TENGAH                0.174976  0.026155 -0.021316\n",
            "SULAWESI TENGAH            0.136388  0.097984 -0.031083\n",
            "NUSA TENGGARA BARAT        0.233834  0.058198 -0.047541\n",
            "ACEH                       0.245048  0.011136 -0.052331\n",
            "SUMATERA BARAT             0.309345  0.013099 -0.112109\n"
          ]
        }
      ]
    },
    {
      "cell_type": "code",
      "source": [
        "# Menghitung rata-rata SR, FCR, dan ADG untuk setiap kabupaten\n",
        "average_regency = data.groupby('regency')[['SR_log', 'FCR_log', 'ADG_log']].mean()\n",
        "\n",
        "# Menampilkan hasil rata-rata dari yang paling tinggi\n",
        "print(average_regency)"
      ],
      "metadata": {
        "colab": {
          "base_uri": "https://localhost:8080/"
        },
        "id": "0MkrI7ttBBUU",
        "outputId": "25da0cb0-3643-4671-c8b2-9da420ceeccd"
      },
      "execution_count": null,
      "outputs": [
        {
          "output_type": "stream",
          "name": "stdout",
          "text": [
            "                  SR_log   FCR_log   ADG_log\n",
            "regency                                     \n",
            "AGAM            0.309345  0.013099 -0.112109\n",
            "BANGKA          0.157062  0.071055  0.128240\n",
            "BANGKA SELATAN  0.218316  0.031964  0.340889\n",
            "BANYUWANGI      0.231510  0.018302  0.217636\n",
            "BARRU           0.220716  0.065724  0.202835\n",
            "BULELENG        0.261739  0.038907  0.101265\n",
            "CILACAP         0.174940  0.025894 -0.024641\n",
            "CIREBON         0.163264  0.025349  0.059695\n",
            "DONGGALA        0.136388  0.097984 -0.031083\n",
            "GARUT           0.154373  0.072636  0.096858\n",
            "GRESIK          0.353198  0.012538 -0.029975\n",
            "JEMBER          0.205776  0.044750  0.107509\n",
            "JEMBRANA        0.172680  0.019506  0.012292\n",
            "JEPARA          0.332005  0.018592  0.208181\n",
            "KEBUMEN         0.336472  0.005153  0.176751\n",
            "KENDAL          0.130886  0.033612 -0.033954\n",
            "LAMONGAN        0.129662  0.069354 -0.087621\n",
            "LAMPUNG BARAT   0.058295  0.032177  0.082356\n",
            "NGANJUK         0.151086  0.094054  0.006715\n",
            "PACITAN         0.274233  0.030996 -0.010142\n",
            "PANGANDARAN     0.251992  0.010798 -0.073580\n",
            "PEMALANG        0.239198  0.015185  0.068852\n",
            "PESAWARAN       0.206913  0.017419 -0.021851\n",
            "PIDIE JAYA      0.245048  0.011136 -0.052331\n",
            "POHUWATO        0.276115  0.006158  0.336472\n",
            "PROBOLINGGO     0.257313  0.057431  0.039813\n",
            "PURWOREJO       0.255809  0.018534  0.076983\n",
            "SITUBONDO       0.219374  0.058115  0.042480\n",
            "SUBANG          0.195387  0.023134 -0.050550\n",
            "SUMBAWA         0.233834  0.058198 -0.047541\n",
            "SUMENEP         0.240962  0.023074 -0.038537\n"
          ]
        }
      ]
    },
    {
      "cell_type": "markdown",
      "source": [
        "Kabupaten GRESIK memiliki SR mean tertinggi (0.353), yang menunjukkan tingkat kelangsungan hidup udang yang relatif lebih tinggi dibandingkan kabupaten lain. Kabupaten KEBUMEN (0.336) dan JEPARA (0.332) juga memiliki SR yang tinggi. Sedangkan yang paling rendah adalah Lampung Barat (0.058).\n",
        "\n",
        "Kabupaten KEBUMEN memiliki FCR mean terendah (0.005), yang menunjukkan efisiensi pakan yang lebih baik disusul dengan Kabupaten POHUWATO (0.006) dan PANGANDARAN (0.010). FCR mean paling tinggi (tidak efisien) terlihat di kabupaten Donggala (0.097).\n",
        "\n",
        "Kabupaten BANGKA SELATAN memiliki ADG mean tertinggi (0.340), yang berarti pertumbuhan udang harian yang relatif cepat terjadi di kabupaten tersebut, disusul dengan Kabupaten POHUWATO (0.336) dan BANYUWANGI (0.217). ADG mean paling rendah terlihat di kabupaten Agam (-0.112)."
      ],
      "metadata": {
        "id": "y0XiYEpgbjyg"
      }
    },
    {
      "cell_type": "code",
      "source": [
        "average_regency_sorted = average_regency.sort_values(by='SR_log', ascending=False)\n",
        "print(average_regency_sorted)"
      ],
      "metadata": {
        "colab": {
          "base_uri": "https://localhost:8080/"
        },
        "id": "XguQPQNuCeA0",
        "outputId": "68160857-d5d9-4a0b-ec22-7ac6f20b2122"
      },
      "execution_count": null,
      "outputs": [
        {
          "output_type": "stream",
          "name": "stdout",
          "text": [
            "                  SR_log   FCR_log   ADG_log\n",
            "regency                                     \n",
            "GRESIK          0.353198  0.012538 -0.029975\n",
            "KEBUMEN         0.336472  0.005153  0.176751\n",
            "JEPARA          0.332005  0.018592  0.208181\n",
            "AGAM            0.309345  0.013099 -0.112109\n",
            "POHUWATO        0.276115  0.006158  0.336472\n",
            "PACITAN         0.274233  0.030996 -0.010142\n",
            "BULELENG        0.261739  0.038907  0.101265\n",
            "PROBOLINGGO     0.257313  0.057431  0.039813\n",
            "PURWOREJO       0.255809  0.018534  0.076983\n",
            "PANGANDARAN     0.251992  0.010798 -0.073580\n",
            "PIDIE JAYA      0.245048  0.011136 -0.052331\n",
            "SUMENEP         0.240962  0.023074 -0.038537\n",
            "PEMALANG        0.239198  0.015185  0.068852\n",
            "SUMBAWA         0.233834  0.058198 -0.047541\n",
            "BANYUWANGI      0.231510  0.018302  0.217636\n",
            "BARRU           0.220716  0.065724  0.202835\n",
            "SITUBONDO       0.219374  0.058115  0.042480\n",
            "BANGKA SELATAN  0.218316  0.031964  0.340889\n",
            "PESAWARAN       0.206913  0.017419 -0.021851\n",
            "JEMBER          0.205776  0.044750  0.107509\n",
            "SUBANG          0.195387  0.023134 -0.050550\n",
            "CILACAP         0.174940  0.025894 -0.024641\n",
            "JEMBRANA        0.172680  0.019506  0.012292\n",
            "CIREBON         0.163264  0.025349  0.059695\n",
            "BANGKA          0.157062  0.071055  0.128240\n",
            "GARUT           0.154373  0.072636  0.096858\n",
            "NGANJUK         0.151086  0.094054  0.006715\n",
            "DONGGALA        0.136388  0.097984 -0.031083\n",
            "KENDAL          0.130886  0.033612 -0.033954\n",
            "LAMONGAN        0.129662  0.069354 -0.087621\n",
            "LAMPUNG BARAT   0.058295  0.032177  0.082356\n"
          ]
        }
      ]
    },
    {
      "cell_type": "markdown",
      "source": [
        "#Analisis Performa Budidaya terhadap Durasi Budidaya\n",
        "\n",
        "Durasi budidaya merupakan lamanya waktu yang dihabiskan untuk membudidayakan udang, dari tahap awal (penebaran bibit) hingga panen. Data pada kolom ‘duration_days’ akan dibagi kedalam 3 (tiga) kategori yakni durasi Pendek, Sedang, dan Panjang dengan berpatokan pada kuartil. Pembagian kategori akan dianalisis untuk melihat apakah pada setiap kategori memiliki perbedaan yang signifikan?manakah durasi paling baik untuk masing-masing performa budidaya (SR, ADG, FCR)?. Analisis untuk durasi budidaya ini akan dilakukan dengan Uji Kruskal-Wallis."
      ],
      "metadata": {
        "id": "-yhqEFd4boU3"
      }
    },
    {
      "cell_type": "code",
      "source": [
        "data.duration_days.unique()"
      ],
      "metadata": {
        "colab": {
          "base_uri": "https://localhost:8080/"
        },
        "id": "Jfdb9YiiCspm",
        "outputId": "0ec58d76-df2c-4795-e7db-1296cf0842e0"
      },
      "execution_count": 33,
      "outputs": [
        {
          "output_type": "execute_result",
          "data": {
            "text/plain": [
              "array([ 51,  98,  85,  22,  35,  80,  70,  96,  87,  94,  71,  86,  64,\n",
              "        65,  67, 104, 100, 103,  90,  56, 135, 131,  93,  74,  59,  61,\n",
              "        75,  52,  69, 116, 113, 120,  99,  60,  66, 111, 101,  83,  84,\n",
              "       102,  91,  42,  92, 124,  78,  68,  88,  63,  55,  76,  72,  58,\n",
              "        62,  57,  53,  54,  48,  44, 118, 125,  79,  37, 108,  97,  77,\n",
              "        43, 123, 110, 117, 114,  73, 150,  89,  82,  95,  81, 126,  46,\n",
              "        36, 220])"
            ]
          },
          "metadata": {},
          "execution_count": 33
        }
      ]
    },
    {
      "cell_type": "code",
      "source": [
        "# Menghitung kuartil 'duration_days'\n",
        "Q1 = data['duration_days'].quantile(0.25)\n",
        "Q3 = data['duration_days'].quantile(0.75)\n",
        "\n",
        "# Mengkategorikan durasi hari menjadi 3 kategori: Pendek, Sedang, Panjang\n",
        "durasi_kategori = pd.cut(data['duration_days'], bins=[data['duration_days'].min(), Q1, Q3, data['duration_days'].max()], labels=['Pendek', 'Sedang', 'Panjang'])\n",
        "\n",
        "# Menampilkan hasil\n",
        "print(durasi_kategori)"
      ],
      "metadata": {
        "colab": {
          "base_uri": "https://localhost:8080/"
        },
        "id": "8r-qCQDXCxRm",
        "outputId": "e5c53a87-b150-4255-924b-98229a8b79a9"
      },
      "execution_count": 34,
      "outputs": [
        {
          "output_type": "stream",
          "name": "stdout",
          "text": [
            "0         Pendek\n",
            "1         Pendek\n",
            "2         Pendek\n",
            "3         Pendek\n",
            "4         Pendek\n",
            "           ...  \n",
            "167008    Pendek\n",
            "167009    Pendek\n",
            "167010    Pendek\n",
            "167011    Pendek\n",
            "167012    Pendek\n",
            "Name: duration_days, Length: 81840, dtype: category\n",
            "Categories (3, object): ['Pendek' < 'Sedang' < 'Panjang']\n"
          ]
        }
      ]
    },
    {
      "cell_type": "code",
      "source": [
        "data['durasi_kategori'] = durasi_kategori\n",
        "\n",
        "# Deskriptif Statistik\n",
        "durasi_stats = data.groupby('durasi_kategori')[['SR_log', 'FCR_log', 'ADG_log']].mean()\n",
        "print(durasi_stats)"
      ],
      "metadata": {
        "colab": {
          "base_uri": "https://localhost:8080/"
        },
        "id": "rO0pJuTUC09S",
        "outputId": "a0c6ddf1-5249-4aae-a830-7b91f1817899"
      },
      "execution_count": 35,
      "outputs": [
        {
          "output_type": "stream",
          "name": "stdout",
          "text": [
            "                   SR_log   FCR_log   ADG_log\n",
            "durasi_kategori                              \n",
            "Pendek           0.175124  0.032074  0.035940\n",
            "Sedang           0.140355  0.035093  0.023297\n",
            "Panjang          0.297511  0.029428 -0.057987\n"
          ]
        },
        {
          "output_type": "stream",
          "name": "stderr",
          "text": [
            "<ipython-input-35-5fcb192bd856>:4: FutureWarning: The default of observed=False is deprecated and will be changed to True in a future version of pandas. Pass observed=False to retain current behavior or observed=True to adopt the future default and silence this warning.\n",
            "  durasi_stats = data.groupby('durasi_kategori')[['SR_log', 'FCR_log', 'ADG_log']].mean()\n"
          ]
        }
      ]
    },
    {
      "cell_type": "code",
      "source": [
        "# Kruskal-Wallis SR\n",
        "kruskal_result_sr = kruskal(data['SR_log'][durasi_kategori == 'Pendek'],\n",
        "                            data['SR_log'][durasi_kategori == 'Sedang'],\n",
        "                            data['SR_log'][durasi_kategori == 'Panjang'])\n",
        "print('Kruskal-Wallis SR:', kruskal_result_sr)\n",
        "\n",
        "# Kruskal-Wallis ADG\n",
        "kruskal_result_adg = kruskal(data['ADG_log'][durasi_kategori == 'Pendek'],\n",
        "                            data['ADG_log'][durasi_kategori == 'Sedang'],\n",
        "                            data['ADG_log'][durasi_kategori == 'Panjang'])\n",
        "print('Kruskal-Wallis ADG:', kruskal_result_adg)\n",
        "\n",
        "# Kruskal-Wallis FCR\n",
        "kruskal_result_fcr = kruskal(data['FCR_log'][durasi_kategori == 'Pendek'],\n",
        "                            data['FCR_log'][durasi_kategori == 'Sedang'],\n",
        "                            data['FCR_log'][durasi_kategori == 'Panjang'])\n",
        "print('Kruskal-Wallis FCR:', kruskal_result_fcr)"
      ],
      "metadata": {
        "colab": {
          "base_uri": "https://localhost:8080/"
        },
        "id": "qs0e7W9JDD8E",
        "outputId": "67b8559d-7673-4a6c-a100-f4c6039649dd"
      },
      "execution_count": 36,
      "outputs": [
        {
          "output_type": "stream",
          "name": "stdout",
          "text": [
            "Kruskal-Wallis SR: KruskalResult(statistic=7305.891711675989, pvalue=0.0)\n",
            "Kruskal-Wallis ADG: KruskalResult(statistic=3805.9918203911816, pvalue=0.0)\n",
            "Kruskal-Wallis FCR: KruskalResult(statistic=551.8153716912665, pvalue=1.4955967837626634e-120)\n"
          ]
        }
      ]
    },
    {
      "cell_type": "markdown",
      "source": [
        "pvalue menunjukkan nilai dibawah 0.05 sehingga terdapat perbedaan signifikan tiap kategori duriasi terhadap performa budidaya."
      ],
      "metadata": {
        "id": "8LvTJMEBcMDU"
      }
    },
    {
      "cell_type": "code",
      "source": [
        "data['durasi_kategori'].value_counts()"
      ],
      "metadata": {
        "colab": {
          "base_uri": "https://localhost:8080/"
        },
        "id": "Rhn0aT2IIlUL",
        "outputId": "bc61a4f9-c45c-409d-c2e6-acd97b01febc"
      },
      "execution_count": null,
      "outputs": [
        {
          "output_type": "execute_result",
          "data": {
            "text/plain": [
              "durasi_kategori\n",
              "Sedang     41024\n",
              "Pendek     21620\n",
              "Panjang    19154\n",
              "Name: count, dtype: int64"
            ]
          },
          "metadata": {},
          "execution_count": 79
        }
      ]
    }
  ]
}